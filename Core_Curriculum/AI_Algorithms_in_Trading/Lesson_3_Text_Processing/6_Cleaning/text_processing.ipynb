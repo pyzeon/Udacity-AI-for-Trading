{
 "cells": [
  {
   "cell_type": "markdown",
   "metadata": {},
   "source": [
    "# Text Processing\n",
    "\n",
    "## Capturing Text Data\n",
    "\n",
    "### Plain Text"
   ]
  },
  {
   "cell_type": "code",
   "execution_count": 1,
   "metadata": {},
   "outputs": [
    {
     "name": "stdout",
     "output_type": "stream",
     "text": [
      "Hieroglyphic writing dates from c. 3000 BC, and is composed of hundreds of symbols. A hieroglyph can represent a word, a sound, or a silent determinative; and the same symbol can serve different purposes in different contexts. Hieroglyphs were a formal script, used on stone monuments and in tombs, that could be as detailed as individual works of art.\n"
     ]
    }
   ],
   "source": [
    "import os\n",
    "\n",
    "# Read in a plain text file\n",
    "with open(os.path.join(\"data\", \"hieroglyph.txt\"), \"r\") as f:\n",
    "    text = f.read()\n",
    "    print(text)"
   ]
  },
  {
   "cell_type": "markdown",
   "metadata": {},
   "source": [
    "### Tabular Data"
   ]
  },
  {
   "cell_type": "code",
   "execution_count": 2,
   "metadata": {
    "scrolled": true
   },
   "outputs": [
    {
     "data": {
      "text/html": [
       "<div>\n",
       "<style scoped>\n",
       "    .dataframe tbody tr th:only-of-type {\n",
       "        vertical-align: middle;\n",
       "    }\n",
       "\n",
       "    .dataframe tbody tr th {\n",
       "        vertical-align: top;\n",
       "    }\n",
       "\n",
       "    .dataframe thead th {\n",
       "        text-align: right;\n",
       "    }\n",
       "</style>\n",
       "<table border=\"1\" class=\"dataframe\">\n",
       "  <thead>\n",
       "    <tr style=\"text-align: right;\">\n",
       "      <th></th>\n",
       "      <th>publisher</th>\n",
       "      <th>title</th>\n",
       "    </tr>\n",
       "  </thead>\n",
       "  <tbody>\n",
       "    <tr>\n",
       "      <th>0</th>\n",
       "      <td>Livemint</td>\n",
       "      <td>fed's charles plosser sees high bar for change...</td>\n",
       "    </tr>\n",
       "    <tr>\n",
       "      <th>1</th>\n",
       "      <td>IFA Magazine</td>\n",
       "      <td>us open: stocks fall after fed official hints ...</td>\n",
       "    </tr>\n",
       "    <tr>\n",
       "      <th>2</th>\n",
       "      <td>IFA Magazine</td>\n",
       "      <td>fed risks falling 'behind the curve', charles ...</td>\n",
       "    </tr>\n",
       "    <tr>\n",
       "      <th>3</th>\n",
       "      <td>Moneynews</td>\n",
       "      <td>fed's plosser: nasty weather has curbed job gr...</td>\n",
       "    </tr>\n",
       "    <tr>\n",
       "      <th>4</th>\n",
       "      <td>NASDAQ</td>\n",
       "      <td>plosser: fed may have to accelerate tapering pace</td>\n",
       "    </tr>\n",
       "  </tbody>\n",
       "</table>\n",
       "</div>"
      ],
      "text/plain": [
       "      publisher                                              title\n",
       "0      Livemint  fed's charles plosser sees high bar for change...\n",
       "1  IFA Magazine  us open: stocks fall after fed official hints ...\n",
       "2  IFA Magazine  fed risks falling 'behind the curve', charles ...\n",
       "3     Moneynews  fed's plosser: nasty weather has curbed job gr...\n",
       "4        NASDAQ  plosser: fed may have to accelerate tapering pace"
      ]
     },
     "execution_count": 2,
     "metadata": {},
     "output_type": "execute_result"
    }
   ],
   "source": [
    "import pandas as pd\n",
    "\n",
    "# Extract text column from a dataframe\n",
    "df = pd.read_csv(os.path.join(\"data\", \"news.csv\"))\n",
    "df.head()[['publisher', 'title']]\n",
    "\n",
    "# Convert text column to lowercase\n",
    "df['title'] = df['title'].str.lower()\n",
    "df.head()[['publisher', 'title']]"
   ]
  },
  {
   "cell_type": "markdown",
   "metadata": {},
   "source": [
    "### Online Resource"
   ]
  },
  {
   "cell_type": "code",
   "execution_count": 3,
   "metadata": {
    "scrolled": true
   },
   "outputs": [
    {
     "name": "stdout",
     "output_type": "stream",
     "text": [
      "{\n",
      "    \"success\": {\n",
      "        \"total\": 1\n",
      "    },\n",
      "    \"contents\": {\n",
      "        \"quotes\": [\n",
      "            {\n",
      "                \"quote\": \"When you recover or discover something that nourishes your soul and brings joy, care enough about yourself to make room for it in your life.\",\n",
      "                \"length\": \"140\",\n",
      "                \"author\": \"Jean Shinoda Bolen\",\n",
      "                \"tags\": [\n",
      "                    \"discover\",\n",
      "                    \"inspire\",\n",
      "                    \"nourish\",\n",
      "                    \"self-help\",\n",
      "                    \"soul\",\n",
      "                    \"tso-life\"\n",
      "                ],\n",
      "                \"category\": \"inspire\",\n",
      "                \"language\": \"en\",\n",
      "                \"date\": \"2020-09-17\",\n",
      "                \"permalink\": \"https://theysaidso.com/quote/jean-shinoda-bolen-when-you-recover-or-discover-something-that-nourishes-your-so\",\n",
      "                \"id\": \"9eJdOarionLzPMRAp5rRXgeF\",\n",
      "                \"background\": \"https://theysaidso.com/img/qod/qod-inspire.jpg\",\n",
      "                \"title\": \"Inspiring Quote of the day\"\n",
      "            }\n",
      "        ]\n",
      "    },\n",
      "    \"baseurl\": \"https://theysaidso.com\",\n",
      "    \"copyright\": {\n",
      "        \"year\": 2022,\n",
      "        \"url\": \"https://theysaidso.com\"\n",
      "    }\n",
      "}\n",
      "When you recover or discover something that nourishes your soul and brings joy, care enough about yourself to make room for it in your life. \n",
      "-- Jean Shinoda Bolen\n"
     ]
    }
   ],
   "source": [
    "import requests\n",
    "import json\n",
    "\n",
    "# Fetch data from a REST API\n",
    "r = requests.get(\n",
    "    \"https://quotes.rest/qod.json\")\n",
    "res = r.json()\n",
    "print(json.dumps(res, indent=4))\n",
    "\n",
    "# Extract relevant object and field\n",
    "q = res[\"contents\"][\"quotes\"][0]\n",
    "print(q[\"quote\"], \"\\n--\", q[\"author\"])"
   ]
  },
  {
   "cell_type": "markdown",
   "metadata": {},
   "source": [
    "## Cleaning"
   ]
  },
  {
   "cell_type": "code",
   "execution_count": 4,
   "metadata": {
    "scrolled": true
   },
   "outputs": [
    {
     "name": "stdout",
     "output_type": "stream",
     "text": [
      "<html lang=\"en\" op=\"news\"><head><meta name=\"referrer\" content=\"origin\"><meta name=\"viewport\" content=\"width=device-width, initial-scale=1.0\"><link rel=\"stylesheet\" type=\"text/css\" href=\"news.css?QhWsbzw8ltFIsDelVerH\">\n",
      "        <link rel=\"shortcut icon\" href=\"favicon.ico\">\n",
      "          <link rel=\"alternate\" type=\"application/rss+xml\" title=\"RSS\" href=\"rss\">\n",
      "        <title>Hacker News</title></head><body><center><table id=\"hnmain\" border=\"0\" cellpadding=\"0\" cellspacing=\"0\" width=\"85%\" bgcolor=\"#f6f6ef\">\n",
      "        <tr><td bgcolor=\"#ff6600\"><table border=\"0\" cellpadding=\"0\" cellspacing=\"0\" width=\"100%\" style=\"padding:2px\"><tr><td style=\"width:18px;padding-right:4px\"><a href=\"https://news.ycombinator.com\"><img src=\"y18.gif\" width=\"18\" height=\"18\" style=\"border:1px white solid;\"></a></td>\n",
      "                  <td style=\"line-height:12pt; height:10px;\"><span class=\"pagetop\"><b class=\"hnname\"><a href=\"news\">Hacker News</a></b>\n",
      "              <a href=\"newest\">new</a> | <a href=\"front\">past</a> | <a href=\"newcomments\">comments</a> | <a href=\"ask\">ask</a> | <a href=\"show\">show</a> | <a href=\"jobs\">jobs</a> | <a href=\"submit\">submit</a>            </span></td><td style=\"text-align:right;padding-right:4px;\"><span class=\"pagetop\">\n",
      "                              <a href=\"login?goto=news\">login</a>\n",
      "                          </span></td>\n",
      "              </tr></table></td></tr>\n",
      "<tr id=\"pagespace\" title=\"\" style=\"height:10px\"></tr><tr><td><table border=\"0\" cellpadding=\"0\" cellspacing=\"0\" class=\"itemlist\">\n",
      "              <tr class='athing' id='24506744'>\n",
      "      <td align=\"right\" valign=\"top\" class=\"title\"><span class=\"rank\">1.</span></td>      <td valign=\"top\" class=\"votelinks\"><center><a id='up_24506744' href='vote?id=24506744&amp;how=up&amp;goto=news'><div class='votearrow' title='upvote'></div></a></center></td><td class=\"title\"><a href=\"https://jamesmcm.github.io/blog/2020/07/25/intro-dod/\" class=\"storylink\">An Introduction to Data Oriented Design with Rust</a><span class=\"sitebit comhead\"> (<a href=\"from?site=jamesmcm.github.io\"><span class=\"sitestr\">jamesmcm.github.io</span></a>)</span></td></tr><tr><td colspan=\"2\"></td><td class=\"subtext\">\n",
      "        <span class=\"score\" id=\"score_24506744\">126 points</span> by <a href=\"user?id=headalgorithm\" class=\"hnuser\">headalgorithm</a> <span class=\"age\"><a href=\"item?id=24506744\">2 hours ago</a></span> <span id=\"unv_24506744\"></span> | <a href=\"hide?id=24506744&amp;goto=news\">hide</a> | <a href=\"item?id=24506744\">40&nbsp;comments</a>              </td></tr>\n",
      "      <tr class=\"spacer\" style=\"height:5px\"></tr>\n",
      "                <tr class='athing' id='24507423'>\n",
      "      <td align=\"right\" valign=\"top\" class=\"title\"><span class=\"rank\">2.</span></td>      <td valign=\"top\" class=\"votelinks\"><center><a id='up_24507423' href='vote?id=24507423&amp;how=up&amp;goto=news'><div class='votearrow' title='upvote'></div></a></center></td><td class=\"title\"><a href=\"https://www.nvidia.com/en-us/geforce/news/nvidia-broadcast-app/\" class=\"storylink\">Nvidia Broadcast App Out Now|Turn Any Room into a Home Studio on GeForce RTX GPU</a><span class=\"sitebit comhead\"> (<a href=\"from?site=nvidia.com\"><span class=\"sitestr\">nvidia.com</span></a>)</span></td></tr><tr><td colspan=\"2\"></td><td class=\"subtext\">\n",
      "        <span class=\"score\" id=\"score_24507423\">41 points</span> by <a href=\"user?id=ryneandal\" class=\"hnuser\">ryneandal</a> <span class=\"age\"><a href=\"item?id=24507423\">1 hour ago</a></span> <span id=\"unv_24507423\"></span> | <a href=\"hide?id=24507423&amp;goto=news\">hide</a> | <a href=\"item?id=24507423\">22&nbsp;comments</a>              </td></tr>\n",
      "      <tr class=\"spacer\" style=\"height:5px\"></tr>\n",
      "                <tr class='athing' id='24504074'>\n",
      "      <td align=\"right\" valign=\"top\" class=\"title\"><span class=\"rank\">3.</span></td>      <td valign=\"top\" class=\"votelinks\"><center><a id='up_24504074' href='vote?id=24504074&amp;how=up&amp;goto=news'><div class='votearrow' title='upvote'></div></a></center></td><td class=\"title\"><a href=\"https://github.blog/2020-09-17-github-cli-1-0-is-now-available/\" class=\"storylink\">GitHub CLI 1.0</a><span class=\"sitebit comhead\"> (<a href=\"from?site=github.blog\"><span class=\"sitestr\">github.blog</span></a>)</span></td></tr><tr><td colspan=\"2\"></td><td class=\"subtext\">\n",
      "        <span class=\"score\" id=\"score_24504074\">370 points</span> by <a href=\"user?id=todsacerdoti\" class=\"hnuser\">todsacerdoti</a> <span class=\"age\"><a href=\"item?id=24504074\">5 hours ago</a></span> <span id=\"unv_24504074\"></span> | <a href=\"hide?id=24504074&amp;goto=news\">hide</a> | <a href=\"item?id=24504074\">123&nbsp;comments</a>              </td></tr>\n",
      "      <tr class=\"spacer\" style=\"height:5px\"></tr>\n",
      "                <tr class='athing' id='24504080'>\n",
      "      <td align=\"right\" valign=\"top\" class=\"title\"><span class=\"rank\">4.</span></td>      <td valign=\"top\" class=\"votelinks\"><center><a id='up_24504080' href='vote?id=24504080&amp;how=up&amp;goto=news'><div class='votearrow' title='upvote'></div></a></center></td><td class=\"title\"><a href=\"http://blog.archive.org/2020/09/17/internet-archive-partners-with-cloudflare-to-help-make-the-web-more-useful-and-reliable/\" class=\"storylink\">Cloudflare and the Wayback Machine, joining forces for a more reliable Web</a><span class=\"sitebit comhead\"> (<a href=\"from?site=archive.org\"><span class=\"sitestr\">archive.org</span></a>)</span></td></tr><tr><td colspan=\"2\"></td><td class=\"subtext\">\n",
      "        <span class=\"score\" id=\"score_24504080\">296 points</span> by <a href=\"user?id=jgrahamc\" class=\"hnuser\">jgrahamc</a> <span class=\"age\"><a href=\"item?id=24504080\">5 hours ago</a></span> <span id=\"unv_24504080\"></span> | <a href=\"hide?id=24504080&amp;goto=news\">hide</a> | <a href=\"item?id=24504080\">67&nbsp;comments</a>              </td></tr>\n",
      "      <tr class=\"spacer\" style=\"height:5px\"></tr>\n",
      "                <tr class='athing' id='24506303'>\n",
      "      <td align=\"right\" valign=\"top\" class=\"title\"><span class=\"rank\">5.</span></td>      <td valign=\"top\" class=\"votelinks\"><center><a id='up_24506303' href='vote?id=24506303&amp;how=up&amp;goto=news'><div class='votearrow' title='upvote'></div></a></center></td><td class=\"title\"><a href=\"item?id=24506303\" class=\"storylink\">Never search for domains on Godaddy.com</a></td></tr><tr><td colspan=\"2\"></td><td class=\"subtext\">\n",
      "        <span class=\"score\" id=\"score_24506303\">535 points</span> by <a href=\"user?id=wasteme\" class=\"hnuser\">wasteme</a> <span class=\"age\"><a href=\"item?id=24506303\">2 hours ago</a></span> <span id=\"unv_24506303\"></span> | <a href=\"hide?id=24506303&amp;goto=news\">hide</a> | <a href=\"item?id=24506303\">217&nbsp;comments</a>              </td></tr>\n",
      "      <tr class=\"spacer\" style=\"height:5px\"></tr>\n",
      "                <tr class='athing' id='24503632'>\n",
      "      <td align=\"right\" valign=\"top\" class=\"title\"><span class=\"rank\">6.</span></td>      <td valign=\"top\" class=\"votelinks\"><center><a id='up_24503632' href='vote?id=24503632&amp;how=up&amp;goto=news'><div class='votearrow' title='upvote'></div></a></center></td><td class=\"title\"><a href=\"https://ffii.org/open-letter-to-the-bundesrat-on-the-unitary-patent-tomorrow-germany-will-be-asked-to-violate-multiple-international-agreements/\" class=\"storylink\">Germany will violate international agreements with Unitary Patent, says FFII</a><span class=\"sitebit comhead\"> (<a href=\"from?site=ffii.org\"><span class=\"sitestr\">ffii.org</span></a>)</span></td></tr><tr><td colspan=\"2\"></td><td class=\"subtext\">\n",
      "        <span class=\"score\" id=\"score_24503632\">303 points</span> by <a href=\"user?id=zoobab\" class=\"hnuser\">zoobab</a> <span class=\"age\"><a href=\"item?id=24503632\">6 hours ago</a></span> <span id=\"unv_24503632\"></span> | <a href=\"hide?id=24503632&amp;goto=news\">hide</a> | <a href=\"item?id=24503632\">192&nbsp;comments</a>              </td></tr>\n",
      "      <tr class=\"spacer\" style=\"height:5px\"></tr>\n",
      "                <tr class='athing' id='24504473'>\n",
      "      <td align=\"right\" valign=\"top\" class=\"title\"><span class=\"rank\">7.</span></td>      <td valign=\"top\" class=\"votelinks\"><center><a id='up_24504473' href='vote?id=24504473&amp;how=up&amp;goto=news'><div class='votearrow' title='upvote'></div></a></center></td><td class=\"title\"><a href=\"https://www.bbc.co.uk/news/technology-54191058\" class=\"storylink\">Nintendo 3DS discontinued after almost a decade</a><span class=\"sitebit comhead\"> (<a href=\"from?site=bbc.co.uk\"><span class=\"sitestr\">bbc.co.uk</span></a>)</span></td></tr><tr><td colspan=\"2\"></td><td class=\"subtext\">\n",
      "        <span class=\"score\" id=\"score_24504473\">172 points</span> by <a href=\"user?id=lloyd678\" class=\"hnuser\">lloyd678</a> <span class=\"age\"><a href=\"item?id=24504473\">5 hours ago</a></span> <span id=\"unv_24504473\"></span> | <a href=\"hide?id=24504473&amp;goto=news\">hide</a> | <a href=\"item?id=24504473\">120&nbsp;comments</a>              </td></tr>\n",
      "      <tr class=\"spacer\" style=\"height:5px\"></tr>\n",
      "                <tr class='athing' id='24505467'>\n",
      "      <td align=\"right\" valign=\"top\" class=\"title\"><span class=\"rank\">8.</span></td>      <td valign=\"top\" class=\"votelinks\"><center><a id='up_24505467' href='vote?id=24505467&amp;how=up&amp;goto=news'><div class='votearrow' title='upvote'></div></a></center></td><td class=\"title\"><a href=\"https://engineering.shopify.com/blogs/engineering/shopify-monolith\" class=\"storylink\">Under Deconstruction: The State of Shopify’s Monolith</a><span class=\"sitebit comhead\"> (<a href=\"from?site=shopify.com\"><span class=\"sitestr\">shopify.com</span></a>)</span></td></tr><tr><td colspan=\"2\"></td><td class=\"subtext\">\n",
      "        <span class=\"score\" id=\"score_24505467\">126 points</span> by <a href=\"user?id=kenrose\" class=\"hnuser\">kenrose</a> <span class=\"age\"><a href=\"item?id=24505467\">3 hours ago</a></span> <span id=\"unv_24505467\"></span> | <a href=\"hide?id=24505467&amp;goto=news\">hide</a> | <a href=\"item?id=24505467\">48&nbsp;comments</a>              </td></tr>\n",
      "      <tr class=\"spacer\" style=\"height:5px\"></tr>\n",
      "                <tr class='athing' id='24507084'>\n",
      "      <td align=\"right\" valign=\"top\" class=\"title\"><span class=\"rank\">9.</span></td>      <td></td><td class=\"title\"><a href=\"https://www.workatastartup.com/jobs\" class=\"storylink\" rel=\"nofollow\">YC's Work at a Startup lets you create one application for hundreds of eng jobs</a><span class=\"sitebit comhead\"> (<a href=\"from?site=workatastartup.com\"><span class=\"sitestr\">workatastartup.com</span></a>)</span></td></tr><tr><td colspan=\"2\"></td><td class=\"subtext\">\n",
      "        <span class=\"age\"><a href=\"item?id=24507084\">1 hour ago</a></span> | <a href=\"hide?id=24507084&amp;goto=news\">hide</a>      </td></tr>\n",
      "      <tr class=\"spacer\" style=\"height:5px\"></tr>\n",
      "                <tr class='athing' id='24506243'>\n",
      "      <td align=\"right\" valign=\"top\" class=\"title\"><span class=\"rank\">10.</span></td>      <td valign=\"top\" class=\"votelinks\"><center><a id='up_24506243' href='vote?id=24506243&amp;how=up&amp;goto=news'><div class='votearrow' title='upvote'></div></a></center></td><td class=\"title\"><a href=\"https://dacemirror.sci-hub.tw/journal-article/7fe084d6885f9339910bf080b718c012/rohrer2018.pdf?download=true\" class=\"storylink\">Thinking Clearly About Correlations and Causation (2018) [pdf]</a><span class=\"sitebit comhead\"> (<a href=\"from?site=dacemirror.sci-hub.tw\"><span class=\"sitestr\">dacemirror.sci-hub.tw</span></a>)</span></td></tr><tr><td colspan=\"2\"></td><td class=\"subtext\">\n",
      "        <span class=\"score\" id=\"score_24506243\">45 points</span> by <a href=\"user?id=Anon84\" class=\"hnuser\">Anon84</a> <span class=\"age\"><a href=\"item?id=24506243\">2 hours ago</a></span> <span id=\"unv_24506243\"></span> | <a href=\"hide?id=24506243&amp;goto=news\">hide</a> | <a href=\"item?id=24506243\">5&nbsp;comments</a>              </td></tr>\n",
      "      <tr class=\"spacer\" style=\"height:5px\"></tr>\n",
      "                <tr class='athing' id='24507053'>\n",
      "      <td align=\"right\" valign=\"top\" class=\"title\"><span class=\"rank\">11.</span></td>      <td valign=\"top\" class=\"votelinks\"><center><a id='up_24507053' href='vote?id=24507053&amp;how=up&amp;goto=news'><div class='votearrow' title='upvote'></div></a></center></td><td class=\"title\"><a href=\"https://samate.nist.gov/index.php/Source_Code_Security_Analyzers.html\" class=\"storylink\">NIST Samate – Source Code Security Analyzers</a><span class=\"sitebit comhead\"> (<a href=\"from?site=nist.gov\"><span class=\"sitestr\">nist.gov</span></a>)</span></td></tr><tr><td colspan=\"2\"></td><td class=\"subtext\">\n",
      "        <span class=\"score\" id=\"score_24507053\">19 points</span> by <a href=\"user?id=animationwill\" class=\"hnuser\">animationwill</a> <span class=\"age\"><a href=\"item?id=24507053\">1 hour ago</a></span> <span id=\"unv_24507053\"></span> | <a href=\"hide?id=24507053&amp;goto=news\">hide</a> | <a href=\"item?id=24507053\">discuss</a>              </td></tr>\n",
      "      <tr class=\"spacer\" style=\"height:5px\"></tr>\n",
      "                <tr class='athing' id='24507905'>\n",
      "      <td align=\"right\" valign=\"top\" class=\"title\"><span class=\"rank\">12.</span></td>      <td valign=\"top\" class=\"votelinks\"><center><a id='up_24507905' href='vote?id=24507905&amp;how=up&amp;goto=news'><div class='votearrow' title='upvote'></div></a></center></td><td class=\"title\"><a href=\"https://www.5dchesswithmultiversetimetravel.com/\" class=\"storylink\">5D chess game where pieces time travel</a><span class=\"sitebit comhead\"> (<a href=\"from?site=5dchesswithmultiversetimetravel.com\"><span class=\"sitestr\">5dchesswithmultiversetimetravel.com</span></a>)</span></td></tr><tr><td colspan=\"2\"></td><td class=\"subtext\">\n",
      "        <span class=\"score\" id=\"score_24507905\">14 points</span> by <a href=\"user?id=jelliclesfarm\" class=\"hnuser\">jelliclesfarm</a> <span class=\"age\"><a href=\"item?id=24507905\">37 minutes ago</a></span> <span id=\"unv_24507905\"></span> | <a href=\"hide?id=24507905&amp;goto=news\">hide</a> | <a href=\"item?id=24507905\">4&nbsp;comments</a>              </td></tr>\n",
      "      <tr class=\"spacer\" style=\"height:5px\"></tr>\n",
      "                <tr class='athing' id='24505436'>\n",
      "      <td align=\"right\" valign=\"top\" class=\"title\"><span class=\"rank\">13.</span></td>      <td valign=\"top\" class=\"votelinks\"><center><a id='up_24505436' href='vote?id=24505436&amp;how=up&amp;goto=news'><div class='votearrow' title='upvote'></div></a></center></td><td class=\"title\"><a href=\"https://www.brandonsmith.ninja/blog/favorite-rust-function\" class=\"storylink\">My Favorite Rust Function Signature</a><span class=\"sitebit comhead\"> (<a href=\"from?site=brandonsmith.ninja\"><span class=\"sitestr\">brandonsmith.ninja</span></a>)</span></td></tr><tr><td colspan=\"2\"></td><td class=\"subtext\">\n",
      "        <span class=\"score\" id=\"score_24505436\">147 points</span> by <a href=\"user?id=brundolf\" class=\"hnuser\">brundolf</a> <span class=\"age\"><a href=\"item?id=24505436\">3 hours ago</a></span> <span id=\"unv_24505436\"></span> | <a href=\"hide?id=24505436&amp;goto=news\">hide</a> | <a href=\"item?id=24505436\">61&nbsp;comments</a>              </td></tr>\n",
      "      <tr class=\"spacer\" style=\"height:5px\"></tr>\n",
      "                <tr class='athing' id='24503292'>\n",
      "      <td align=\"right\" valign=\"top\" class=\"title\"><span class=\"rank\">14.</span></td>      <td valign=\"top\" class=\"votelinks\"><center><a id='up_24503292' href='vote?id=24503292&amp;how=up&amp;goto=news'><div class='votearrow' title='upvote'></div></a></center></td><td class=\"title\"><a href=\"https://utcc.utoronto.ca/~cks/space/blog/python/PipDropInInstall\" class=\"storylink\">Dropping modern Python packages into a single program</a><span class=\"sitebit comhead\"> (<a href=\"from?site=utoronto.ca\"><span class=\"sitestr\">utoronto.ca</span></a>)</span></td></tr><tr><td colspan=\"2\"></td><td class=\"subtext\">\n",
      "        <span class=\"score\" id=\"score_24503292\">17 points</span> by <a href=\"user?id=pcr910303\" class=\"hnuser\">pcr910303</a> <span class=\"age\"><a href=\"item?id=24503292\">2 hours ago</a></span> <span id=\"unv_24503292\"></span> | <a href=\"hide?id=24503292&amp;goto=news\">hide</a> | <a href=\"item?id=24503292\">15&nbsp;comments</a>              </td></tr>\n",
      "      <tr class=\"spacer\" style=\"height:5px\"></tr>\n",
      "                <tr class='athing' id='24502221'>\n",
      "      <td align=\"right\" valign=\"top\" class=\"title\"><span class=\"rank\">15.</span></td>      <td valign=\"top\" class=\"votelinks\"><center><a id='up_24502221' href='vote?id=24502221&amp;how=up&amp;goto=news'><div class='votearrow' title='upvote'></div></a></center></td><td class=\"title\"><a href=\"https://www.theguardian.com/news/2020/sep/17/battle-over-dyslexia-warwickshire-staffordshire\" class=\"storylink\">The Battle over Dyslexia</a><span class=\"sitebit comhead\"> (<a href=\"from?site=theguardian.com\"><span class=\"sitestr\">theguardian.com</span></a>)</span></td></tr><tr><td colspan=\"2\"></td><td class=\"subtext\">\n",
      "        <span class=\"score\" id=\"score_24502221\">11 points</span> by <a href=\"user?id=oska\" class=\"hnuser\">oska</a> <span class=\"age\"><a href=\"item?id=24502221\">1 hour ago</a></span> <span id=\"unv_24502221\"></span> | <a href=\"hide?id=24502221&amp;goto=news\">hide</a> | <a href=\"item?id=24502221\">1&nbsp;comment</a>              </td></tr>\n",
      "      <tr class=\"spacer\" style=\"height:5px\"></tr>\n",
      "                <tr class='athing' id='24502003'>\n",
      "      <td align=\"right\" valign=\"top\" class=\"title\"><span class=\"rank\">16.</span></td>      <td valign=\"top\" class=\"votelinks\"><center><a id='up_24502003' href='vote?id=24502003&amp;how=up&amp;goto=news'><div class='votearrow' title='upvote'></div></a></center></td><td class=\"title\"><a href=\"https://dengarden.com/misc/The-Pitfalls-of-an-Underground-House\" class=\"storylink\">We Don’t Like Our Underground House</a><span class=\"sitebit comhead\"> (<a href=\"from?site=dengarden.com\"><span class=\"sitestr\">dengarden.com</span></a>)</span></td></tr><tr><td colspan=\"2\"></td><td class=\"subtext\">\n",
      "        <span class=\"score\" id=\"score_24502003\">356 points</span> by <a href=\"user?id=jelliclesfarm\" class=\"hnuser\">jelliclesfarm</a> <span class=\"age\"><a href=\"item?id=24502003\">11 hours ago</a></span> <span id=\"unv_24502003\"></span> | <a href=\"hide?id=24502003&amp;goto=news\">hide</a> | <a href=\"item?id=24502003\">240&nbsp;comments</a>              </td></tr>\n",
      "      <tr class=\"spacer\" style=\"height:5px\"></tr>\n",
      "                <tr class='athing' id='24504716'>\n",
      "      <td align=\"right\" valign=\"top\" class=\"title\"><span class=\"rank\">17.</span></td>      <td valign=\"top\" class=\"votelinks\"><center><a id='up_24504716' href='vote?id=24504716&amp;how=up&amp;goto=news'><div class='votearrow' title='upvote'></div></a></center></td><td class=\"title\"><a href=\"https://www.bmj.com/content/370/bmj.m3563\" class=\"storylink\">Covid-19: Do many people have pre-existing immunity?</a><span class=\"sitebit comhead\"> (<a href=\"from?site=bmj.com\"><span class=\"sitestr\">bmj.com</span></a>)</span></td></tr><tr><td colspan=\"2\"></td><td class=\"subtext\">\n",
      "        <span class=\"score\" id=\"score_24504716\">153 points</span> by <a href=\"user?id=nradov\" class=\"hnuser\">nradov</a> <span class=\"age\"><a href=\"item?id=24504716\">4 hours ago</a></span> <span id=\"unv_24504716\"></span> | <a href=\"hide?id=24504716&amp;goto=news\">hide</a> | <a href=\"item?id=24504716\">203&nbsp;comments</a>              </td></tr>\n",
      "      <tr class=\"spacer\" style=\"height:5px\"></tr>\n",
      "                <tr class='athing' id='24489871'>\n",
      "      <td align=\"right\" valign=\"top\" class=\"title\"><span class=\"rank\">18.</span></td>      <td valign=\"top\" class=\"votelinks\"><center><a id='up_24489871' href='vote?id=24489871&amp;how=up&amp;goto=news'><div class='votearrow' title='upvote'></div></a></center></td><td class=\"title\"><a href=\"https://idiallo.com/blog/how-much-do-you-charge-for-your-work\" class=\"storylink\">How I learned to charge my customers</a><span class=\"sitebit comhead\"> (<a href=\"from?site=idiallo.com\"><span class=\"sitestr\">idiallo.com</span></a>)</span></td></tr><tr><td colspan=\"2\"></td><td class=\"subtext\">\n",
      "        <span class=\"score\" id=\"score_24489871\">116 points</span> by <a href=\"user?id=benrmatthews\" class=\"hnuser\">benrmatthews</a> <span class=\"age\"><a href=\"item?id=24489871\">6 hours ago</a></span> <span id=\"unv_24489871\"></span> | <a href=\"hide?id=24489871&amp;goto=news\">hide</a> | <a href=\"item?id=24489871\">46&nbsp;comments</a>              </td></tr>\n",
      "      <tr class=\"spacer\" style=\"height:5px\"></tr>\n",
      "                <tr class='athing' id='24506280'>\n",
      "      <td align=\"right\" valign=\"top\" class=\"title\"><span class=\"rank\">19.</span></td>      <td valign=\"top\" class=\"votelinks\"><center><a id='up_24506280' href='vote?id=24506280&amp;how=up&amp;goto=news'><div class='votearrow' title='upvote'></div></a></center></td><td class=\"title\"><a href=\"https://github.com/gnebbia/kb\" class=\"storylink\">Kb. A minimalist hacker-oriented knowledge base manager</a><span class=\"sitebit comhead\"> (<a href=\"from?site=github.com\"><span class=\"sitestr\">github.com</span></a>)</span></td></tr><tr><td colspan=\"2\"></td><td class=\"subtext\">\n",
      "        <span class=\"score\" id=\"score_24506280\">35 points</span> by <a href=\"user?id=nebbiolo\" class=\"hnuser\">nebbiolo</a> <span class=\"age\"><a href=\"item?id=24506280\">2 hours ago</a></span> <span id=\"unv_24506280\"></span> | <a href=\"hide?id=24506280&amp;goto=news\">hide</a> | <a href=\"item?id=24506280\">11&nbsp;comments</a>              </td></tr>\n",
      "      <tr class=\"spacer\" style=\"height:5px\"></tr>\n",
      "                <tr class='athing' id='24505637'>\n",
      "      <td align=\"right\" valign=\"top\" class=\"title\"><span class=\"rank\">20.</span></td>      <td valign=\"top\" class=\"votelinks\"><center><a id='up_24505637' href='vote?id=24505637&amp;how=up&amp;goto=news'><div class='votearrow' title='upvote'></div></a></center></td><td class=\"title\"><a href=\"https://about.gitlab.com/blog/2020/09/14/why-basic-security-practices-matter-for-everyone/\" class=\"storylink\">Why basic security practices matter for everyone</a><span class=\"sitebit comhead\"> (<a href=\"from?site=gitlab.com\"><span class=\"sitestr\">gitlab.com</span></a>)</span></td></tr><tr><td colspan=\"2\"></td><td class=\"subtext\">\n",
      "        <span class=\"score\" id=\"score_24505637\">35 points</span> by <a href=\"user?id=mooreds\" class=\"hnuser\">mooreds</a> <span class=\"age\"><a href=\"item?id=24505637\">3 hours ago</a></span> <span id=\"unv_24505637\"></span> | <a href=\"hide?id=24505637&amp;goto=news\">hide</a> | <a href=\"item?id=24505637\">2&nbsp;comments</a>              </td></tr>\n",
      "      <tr class=\"spacer\" style=\"height:5px\"></tr>\n",
      "                <tr class='athing' id='24499924'>\n",
      "      <td align=\"right\" valign=\"top\" class=\"title\"><span class=\"rank\">21.</span></td>      <td valign=\"top\" class=\"votelinks\"><center><a id='up_24499924' href='vote?id=24499924&amp;how=up&amp;goto=news'><div class='votearrow' title='upvote'></div></a></center></td><td class=\"title\"><a href=\"https://twitter.com/tubetimeus/status/1306359385656946688\" class=\"storylink\">This electrical transmission tower has a problem</a><span class=\"sitebit comhead\"> (<a href=\"from?site=twitter.com\"><span class=\"sitestr\">twitter.com</span></a>)</span></td></tr><tr><td colspan=\"2\"></td><td class=\"subtext\">\n",
      "        <span class=\"score\" id=\"score_24499924\">1404 points</span> by <a href=\"user?id=danso\" class=\"hnuser\">danso</a> <span class=\"age\"><a href=\"item?id=24499924\">16 hours ago</a></span> <span id=\"unv_24499924\"></span> | <a href=\"hide?id=24499924&amp;goto=news\">hide</a> | <a href=\"item?id=24499924\">402&nbsp;comments</a>              </td></tr>\n",
      "      <tr class=\"spacer\" style=\"height:5px\"></tr>\n",
      "                <tr class='athing' id='24505232'>\n",
      "      <td align=\"right\" valign=\"top\" class=\"title\"><span class=\"rank\">22.</span></td>      <td valign=\"top\" class=\"votelinks\"><center><a id='up_24505232' href='vote?id=24505232&amp;how=up&amp;goto=news'><div class='votearrow' title='upvote'></div></a></center></td><td class=\"title\"><a href=\"https://jeremyaboyd.com/post/shutting-down-navhere\" class=\"storylink\">Shutting Down NavHere</a><span class=\"sitebit comhead\"> (<a href=\"from?site=jeremyaboyd.com\"><span class=\"sitestr\">jeremyaboyd.com</span></a>)</span></td></tr><tr><td colspan=\"2\"></td><td class=\"subtext\">\n",
      "        <span class=\"score\" id=\"score_24505232\">42 points</span> by <a href=\"user?id=jermaustin1\" class=\"hnuser\">jermaustin1</a> <span class=\"age\"><a href=\"item?id=24505232\">3 hours ago</a></span> <span id=\"unv_24505232\"></span> | <a href=\"hide?id=24505232&amp;goto=news\">hide</a> | <a href=\"item?id=24505232\">24&nbsp;comments</a>              </td></tr>\n",
      "      <tr class=\"spacer\" style=\"height:5px\"></tr>\n",
      "                <tr class='athing' id='24502782'>\n",
      "      <td align=\"right\" valign=\"top\" class=\"title\"><span class=\"rank\">23.</span></td>      <td valign=\"top\" class=\"votelinks\"><center><a id='up_24502782' href='vote?id=24502782&amp;how=up&amp;goto=news'><div class='votearrow' title='upvote'></div></a></center></td><td class=\"title\"><a href=\"https://foundation.mozilla.org/en/blog/mozilla-crowdsourcing-research-youtube-recommendations/\" class=\"storylink\">Mozilla Is Crowdsourcing Research into YouTube Recommendations</a><span class=\"sitebit comhead\"> (<a href=\"from?site=foundation.mozilla.org\"><span class=\"sitestr\">foundation.mozilla.org</span></a>)</span></td></tr><tr><td colspan=\"2\"></td><td class=\"subtext\">\n",
      "        <span class=\"score\" id=\"score_24502782\">135 points</span> by <a href=\"user?id=fraqed\" class=\"hnuser\">fraqed</a> <span class=\"age\"><a href=\"item?id=24502782\">8 hours ago</a></span> <span id=\"unv_24502782\"></span> | <a href=\"hide?id=24502782&amp;goto=news\">hide</a> | <a href=\"item?id=24502782\">98&nbsp;comments</a>              </td></tr>\n",
      "      <tr class=\"spacer\" style=\"height:5px\"></tr>\n",
      "                <tr class='athing' id='24506724'>\n",
      "      <td align=\"right\" valign=\"top\" class=\"title\"><span class=\"rank\">24.</span></td>      <td valign=\"top\" class=\"votelinks\"><center><a id='up_24506724' href='vote?id=24506724&amp;how=up&amp;goto=news'><div class='votearrow' title='upvote'></div></a></center></td><td class=\"title\"><a href=\"https://www.joh.cam.ac.uk/worlds-largest-ever-dna-sequencing-viking-skeletons-reveals-they-werent-all-scandinavian\" class=\"storylink\">DNA sequencing of Viking skeletons reveals they weren’t all Scandinavian</a><span class=\"sitebit comhead\"> (<a href=\"from?site=cam.ac.uk\"><span class=\"sitestr\">cam.ac.uk</span></a>)</span></td></tr><tr><td colspan=\"2\"></td><td class=\"subtext\">\n",
      "        <span class=\"score\" id=\"score_24506724\">14 points</span> by <a href=\"user?id=gmays\" class=\"hnuser\">gmays</a> <span class=\"age\"><a href=\"item?id=24506724\">2 hours ago</a></span> <span id=\"unv_24506724\"></span> | <a href=\"hide?id=24506724&amp;goto=news\">hide</a> | <a href=\"item?id=24506724\">13&nbsp;comments</a>              </td></tr>\n",
      "      <tr class=\"spacer\" style=\"height:5px\"></tr>\n",
      "                <tr class='athing' id='24491700'>\n",
      "      <td align=\"right\" valign=\"top\" class=\"title\"><span class=\"rank\">25.</span></td>      <td valign=\"top\" class=\"votelinks\"><center><a id='up_24491700' href='vote?id=24491700&amp;how=up&amp;goto=news'><div class='votearrow' title='upvote'></div></a></center></td><td class=\"title\"><a href=\"https://github.com/spawnfest/bakeware\" class=\"storylink\">Bakeware – Compile Elixir applications into single executable binaries</a><span class=\"sitebit comhead\"> (<a href=\"from?site=github.com\"><span class=\"sitestr\">github.com</span></a>)</span></td></tr><tr><td colspan=\"2\"></td><td class=\"subtext\">\n",
      "        <span class=\"score\" id=\"score_24491700\">152 points</span> by <a href=\"user?id=tempodox\" class=\"hnuser\">tempodox</a> <span class=\"age\"><a href=\"item?id=24491700\">10 hours ago</a></span> <span id=\"unv_24491700\"></span> | <a href=\"hide?id=24491700&amp;goto=news\">hide</a> | <a href=\"item?id=24491700\">41&nbsp;comments</a>              </td></tr>\n",
      "      <tr class=\"spacer\" style=\"height:5px\"></tr>\n",
      "                <tr class='athing' id='24505074'>\n",
      "      <td align=\"right\" valign=\"top\" class=\"title\"><span class=\"rank\">26.</span></td>      <td valign=\"top\" class=\"votelinks\"><center><a id='up_24505074' href='vote?id=24505074&amp;how=up&amp;goto=news'><div class='votearrow' title='upvote'></div></a></center></td><td class=\"title\"><a href=\"https://freespeechunion.org/why-the-governments-plans-to-regulate-the-internet-are-a-threat-to-free-speech/\" class=\"storylink\">UK government’s plans to regulate the internet are a threat to free speech</a><span class=\"sitebit comhead\"> (<a href=\"from?site=freespeechunion.org\"><span class=\"sitestr\">freespeechunion.org</span></a>)</span></td></tr><tr><td colspan=\"2\"></td><td class=\"subtext\">\n",
      "        <span class=\"score\" id=\"score_24505074\">161 points</span> by <a href=\"user?id=timthorn\" class=\"hnuser\">timthorn</a> <span class=\"age\"><a href=\"item?id=24505074\">4 hours ago</a></span> <span id=\"unv_24505074\"></span> | <a href=\"hide?id=24505074&amp;goto=news\">hide</a> | <a href=\"item?id=24505074\">125&nbsp;comments</a>              </td></tr>\n",
      "      <tr class=\"spacer\" style=\"height:5px\"></tr>\n",
      "                <tr class='athing' id='24504891'>\n",
      "      <td align=\"right\" valign=\"top\" class=\"title\"><span class=\"rank\">27.</span></td>      <td valign=\"top\" class=\"votelinks\"><center><a id='up_24504891' href='vote?id=24504891&amp;how=up&amp;goto=news'><div class='votearrow' title='upvote'></div></a></center></td><td class=\"title\"><a href=\"https://www.singlix.com/runix\" class=\"storylink\">Retro Unix Operating System</a><span class=\"sitebit comhead\"> (<a href=\"from?site=singlix.com\"><span class=\"sitestr\">singlix.com</span></a>)</span></td></tr><tr><td colspan=\"2\"></td><td class=\"subtext\">\n",
      "        <span class=\"score\" id=\"score_24504891\">39 points</span> by <a href=\"user?id=elvis70\" class=\"hnuser\">elvis70</a> <span class=\"age\"><a href=\"item?id=24504891\">4 hours ago</a></span> <span id=\"unv_24504891\"></span> | <a href=\"hide?id=24504891&amp;goto=news\">hide</a> | <a href=\"item?id=24504891\">4&nbsp;comments</a>              </td></tr>\n",
      "      <tr class=\"spacer\" style=\"height:5px\"></tr>\n",
      "                <tr class='athing' id='24507945'>\n",
      "      <td align=\"right\" valign=\"top\" class=\"title\"><span class=\"rank\">28.</span></td>      <td valign=\"top\" class=\"votelinks\"><center><a id='up_24507945' href='vote?id=24507945&amp;how=up&amp;goto=news'><div class='votearrow' title='upvote'></div></a></center></td><td class=\"title\"><a href=\"item?id=24507945\" class=\"storylink\">Ask HN: Is Stripe going to ban Onlyfans for processing adult content payments?</a></td></tr><tr><td colspan=\"2\"></td><td class=\"subtext\">\n",
      "        <span class=\"score\" id=\"score_24507945\">13 points</span> by <a href=\"user?id=solaarphunk\" class=\"hnuser\">solaarphunk</a> <span class=\"age\"><a href=\"item?id=24507945\">33 minutes ago</a></span> <span id=\"unv_24507945\"></span> | <a href=\"hide?id=24507945&amp;goto=news\">hide</a> | <a href=\"item?id=24507945\">1&nbsp;comment</a>              </td></tr>\n",
      "      <tr class=\"spacer\" style=\"height:5px\"></tr>\n",
      "                <tr class='athing' id='24504537'>\n",
      "      <td align=\"right\" valign=\"top\" class=\"title\"><span class=\"rank\">29.</span></td>      <td valign=\"top\" class=\"votelinks\"><center><a id='up_24504537' href='vote?id=24504537&amp;how=up&amp;goto=news'><div class='votearrow' title='upvote'></div></a></center></td><td class=\"title\"><a href=\"https://www.quantamagazine.org/how-renormalization-saved-particle-physics-20200917/\" class=\"storylink\">How Renormalization Saved Particle Physics</a><span class=\"sitebit comhead\"> (<a href=\"from?site=quantamagazine.org\"><span class=\"sitestr\">quantamagazine.org</span></a>)</span></td></tr><tr><td colspan=\"2\"></td><td class=\"subtext\">\n",
      "        <span class=\"score\" id=\"score_24504537\">35 points</span> by <a href=\"user?id=theafh\" class=\"hnuser\">theafh</a> <span class=\"age\"><a href=\"item?id=24504537\">4 hours ago</a></span> <span id=\"unv_24504537\"></span> | <a href=\"hide?id=24504537&amp;goto=news\">hide</a> | <a href=\"item?id=24504537\">7&nbsp;comments</a>              </td></tr>\n",
      "      <tr class=\"spacer\" style=\"height:5px\"></tr>\n",
      "                <tr class='athing' id='24491371'>\n",
      "      <td align=\"right\" valign=\"top\" class=\"title\"><span class=\"rank\">30.</span></td>      <td valign=\"top\" class=\"votelinks\"><center><a id='up_24491371' href='vote?id=24491371&amp;how=up&amp;goto=news'><div class='votearrow' title='upvote'></div></a></center></td><td class=\"title\"><a href=\"https://puri.sm/posts/tourists-on-techs-toll-roads/\" class=\"storylink\">Tourists on Tech's Toll Roads</a><span class=\"sitebit comhead\"> (<a href=\"from?site=puri.sm\"><span class=\"sitestr\">puri.sm</span></a>)</span></td></tr><tr><td colspan=\"2\"></td><td class=\"subtext\">\n",
      "        <span class=\"score\" id=\"score_24491371\">50 points</span> by <a href=\"user?id=teddyh\" class=\"hnuser\">teddyh</a> <span class=\"age\"><a href=\"item?id=24491371\">7 hours ago</a></span> <span id=\"unv_24491371\"></span> | <a href=\"hide?id=24491371&amp;goto=news\">hide</a> | <a href=\"item?id=24491371\">15&nbsp;comments</a>              </td></tr>\n",
      "      <tr class=\"spacer\" style=\"height:5px\"></tr>\n",
      "            <tr class=\"morespace\" style=\"height:10px\"></tr><tr><td colspan=\"2\"></td><td class=\"title\"><a href=\"news?p=2\" class=\"morelink\" rel=\"next\">More</a></td></tr>\n",
      "  </table>\n",
      "</td></tr>\n",
      "<tr><td><img src=\"s.gif\" height=\"10\" width=\"0\"><table width=\"100%\" cellspacing=\"0\" cellpadding=\"1\"><tr><td bgcolor=\"#ff6600\"></td></tr></table><br><center><a href=\"https://www.ycombinator.com/apply/\">\n",
      "        Applications are open for YC Winter 2021\n",
      "      </a></center><br><center><span class=\"yclinks\"><a href=\"newsguidelines.html\">Guidelines</a>\n",
      "        | <a href=\"newsfaq.html\">FAQ</a>\n",
      "        | <a href=\"mailto:hn@ycombinator.com\">Support</a>\n",
      "        | <a href=\"https://github.com/HackerNews/API\">API</a>\n",
      "        | <a href=\"security.html\">Security</a>\n",
      "        | <a href=\"lists\">Lists</a>\n",
      "        | <a href=\"bookmarklet.html\" rel=\"nofollow\">Bookmarklet</a>\n",
      "        | <a href=\"http://www.ycombinator.com/legal/\">Legal</a>\n",
      "        | <a href=\"http://www.ycombinator.com/apply/\">Apply to YC</a>\n",
      "        | <a href=\"mailto:hn@ycombinator.com\">Contact</a></span><br><br><form method=\"get\" action=\"//hn.algolia.com/\">Search:\n",
      "          <input type=\"text\" name=\"q\" value=\"\" size=\"17\" autocorrect=\"off\" spellcheck=\"false\" autocapitalize=\"off\" autocomplete=\"false\"></form>\n",
      "            </center></td></tr>\n",
      "      </table></center></body><script type='text/javascript' src='hn.js?QhWsbzw8ltFIsDelVerH'></script></html>\n",
      "\n"
     ]
    }
   ],
   "source": [
    "import requests\n",
    "\n",
    "# Fetch a web page\n",
    "r = requests.get(\"https://news.ycombinator.com\")\n",
    "print(r.text)"
   ]
  },
  {
   "cell_type": "code",
   "execution_count": 5,
   "metadata": {},
   "outputs": [
    {
     "name": "stdout",
     "output_type": "stream",
     "text": [
      "\n",
      "        \n",
      "          \n",
      "        Hacker News\n",
      "        \n",
      "                  Hacker News\n",
      "              new | past | comments | ask | show | jobs | submit            \n",
      "                              login\n",
      "                          \n",
      "              \n",
      "\n",
      "              \n",
      "      1.      An Introduction to Data Oriented Design with Rust (jamesmcm.github.io)\n",
      "        126 points by headalgorithm 2 hours ago  | hide | 40&nbsp;comments              \n",
      "      \n",
      "                \n",
      "      2.      Nvidia Broadcast App Out Now|Turn Any Room into a Home Studio on GeForce RTX GPU (nvidia.com)\n",
      "        41 points by ryneandal 1 hour ago  | hide | 22&nbsp;comments              \n",
      "      \n",
      "                \n",
      "      3.      GitHub CLI 1.0 (github.blog)\n",
      "        370 points by todsacerdoti 5 hours ago  | hide | 123&nbsp;comments              \n",
      "      \n",
      "                \n",
      "      4.      Cloudflare and the Wayback Machine, joining forces for a more reliable Web (archive.org)\n",
      "        296 points by jgrahamc 5 hours ago  | hide | 67&nbsp;comments              \n",
      "      \n",
      "                \n",
      "      5.      Never search for domains on Godaddy.com\n",
      "        535 points by wasteme 2 hours ago  | hide | 217&nbsp;comments              \n",
      "      \n",
      "                \n",
      "      6.      Germany will violate international agreements with Unitary Patent, says FFII (ffii.org)\n",
      "        303 points by zoobab 6 hours ago  | hide | 192&nbsp;comments              \n",
      "      \n",
      "                \n",
      "      7.      Nintendo 3DS discontinued after almost a decade (bbc.co.uk)\n",
      "        172 points by lloyd678 5 hours ago  | hide | 120&nbsp;comments              \n",
      "      \n",
      "                \n",
      "      8.      Under Deconstruction: The State of Shopify’s Monolith (shopify.com)\n",
      "        126 points by kenrose 3 hours ago  | hide | 48&nbsp;comments              \n",
      "      \n",
      "                \n",
      "      9.      YC's Work at a Startup lets you create one application for hundreds of eng jobs (workatastartup.com)\n",
      "        1 hour ago | hide      \n",
      "      \n",
      "                \n",
      "      10.      Thinking Clearly About Correlations and Causation (2018) [pdf] (dacemirror.sci-hub.tw)\n",
      "        45 points by Anon84 2 hours ago  | hide | 5&nbsp;comments              \n",
      "      \n",
      "                \n",
      "      11.      NIST Samate – Source Code Security Analyzers (nist.gov)\n",
      "        19 points by animationwill 1 hour ago  | hide | discuss              \n",
      "      \n",
      "                \n",
      "      12.      5D chess game where pieces time travel (5dchesswithmultiversetimetravel.com)\n",
      "        14 points by jelliclesfarm 37 minutes ago  | hide | 4&nbsp;comments              \n",
      "      \n",
      "                \n",
      "      13.      My Favorite Rust Function Signature (brandonsmith.ninja)\n",
      "        147 points by brundolf 3 hours ago  | hide | 61&nbsp;comments              \n",
      "      \n",
      "                \n",
      "      14.      Dropping modern Python packages into a single program (utoronto.ca)\n",
      "        17 points by pcr910303 2 hours ago  | hide | 15&nbsp;comments              \n",
      "      \n",
      "                \n",
      "      15.      The Battle over Dyslexia (theguardian.com)\n",
      "        11 points by oska 1 hour ago  | hide | 1&nbsp;comment              \n",
      "      \n",
      "                \n",
      "      16.      We Don’t Like Our Underground House (dengarden.com)\n",
      "        356 points by jelliclesfarm 11 hours ago  | hide | 240&nbsp;comments              \n",
      "      \n",
      "                \n",
      "      17.      Covid-19: Do many people have pre-existing immunity? (bmj.com)\n",
      "        153 points by nradov 4 hours ago  | hide | 203&nbsp;comments              \n",
      "      \n",
      "                \n",
      "      18.      How I learned to charge my customers (idiallo.com)\n",
      "        116 points by benrmatthews 6 hours ago  | hide | 46&nbsp;comments              \n",
      "      \n",
      "                \n",
      "      19.      Kb. A minimalist hacker-oriented knowledge base manager (github.com)\n",
      "        35 points by nebbiolo 2 hours ago  | hide | 11&nbsp;comments              \n",
      "      \n",
      "                \n",
      "      20.      Why basic security practices matter for everyone (gitlab.com)\n",
      "        35 points by mooreds 3 hours ago  | hide | 2&nbsp;comments              \n",
      "      \n",
      "                \n",
      "      21.      This electrical transmission tower has a problem (twitter.com)\n",
      "        1404 points by danso 16 hours ago  | hide | 402&nbsp;comments              \n",
      "      \n",
      "                \n",
      "      22.      Shutting Down NavHere (jeremyaboyd.com)\n",
      "        42 points by jermaustin1 3 hours ago  | hide | 24&nbsp;comments              \n",
      "      \n",
      "                \n",
      "      23.      Mozilla Is Crowdsourcing Research into YouTube Recommendations (foundation.mozilla.org)\n",
      "        135 points by fraqed 8 hours ago  | hide | 98&nbsp;comments              \n",
      "      \n",
      "                \n",
      "      24.      DNA sequencing of Viking skeletons reveals they weren’t all Scandinavian (cam.ac.uk)\n",
      "        14 points by gmays 2 hours ago  | hide | 13&nbsp;comments              \n",
      "      \n",
      "                \n",
      "      25.      Bakeware – Compile Elixir applications into single executable binaries (github.com)\n",
      "        152 points by tempodox 10 hours ago  | hide | 41&nbsp;comments              \n",
      "      \n",
      "                \n",
      "      26.      UK government’s plans to regulate the internet are a threat to free speech (freespeechunion.org)\n",
      "        161 points by timthorn 4 hours ago  | hide | 125&nbsp;comments              \n",
      "      \n",
      "                \n",
      "      27.      Retro Unix Operating System (singlix.com)\n",
      "        39 points by elvis70 4 hours ago  | hide | 4&nbsp;comments              \n",
      "      \n",
      "                \n",
      "      28.      Ask HN: Is Stripe going to ban Onlyfans for processing adult content payments?\n",
      "        13 points by solaarphunk 33 minutes ago  | hide | 1&nbsp;comment              \n",
      "      \n",
      "                \n",
      "      29.      How Renormalization Saved Particle Physics (quantamagazine.org)\n",
      "        35 points by theafh 4 hours ago  | hide | 7&nbsp;comments              \n",
      "      \n",
      "                \n",
      "      30.      Tourists on Tech's Toll Roads (puri.sm)\n",
      "        50 points by teddyh 7 hours ago  | hide | 15&nbsp;comments              \n",
      "      \n",
      "            More\n",
      "  \n",
      "\n",
      "\n",
      "        Applications are open for YC Winter 2021\n",
      "      Guidelines\n",
      "        | FAQ\n",
      "        | Support\n",
      "        | API\n",
      "        | Security\n",
      "        | Lists\n",
      "        | Bookmarklet\n",
      "        | Legal\n",
      "        | Apply to YC\n",
      "        | ContactSearch:\n",
      "          \n",
      "            \n",
      "      \n",
      "\n"
     ]
    }
   ],
   "source": [
    "import re\n",
    "\n",
    "# Remove HTML tags using RegEx\n",
    "pattern = re.compile(r'<.*?>')  # tags look like <...>\n",
    "print(pattern.sub('', r.text))  # replace them with blank"
   ]
  },
  {
   "cell_type": "code",
   "execution_count": 6,
   "metadata": {},
   "outputs": [
    {
     "name": "stdout",
     "output_type": "stream",
     "text": [
      "\n",
      "        \n",
      "          \n",
      "        Hacker News\n",
      "        \n",
      "                  Hacker News\n",
      "              new | past | comments | ask | show | jobs | submit            \n",
      "                              login\n",
      "                          \n",
      "              \n",
      "\n",
      "              \n",
      "      1.      An Introduction to Data Oriented Design with Rust (jamesmcm.github.io)\n",
      "        126 points by headalgorithm 2 hours ago  | hide | 40 comments              \n",
      "      \n",
      "                \n",
      "      2.      Nvidia Broadcast App Out Now|Turn Any Room into a Home Studio on GeForce RTX GPU (nvidia.com)\n",
      "        41 points by ryneandal 1 hour ago  | hide | 22 comments              \n",
      "      \n",
      "                \n",
      "      3.      GitHub CLI 1.0 (github.blog)\n",
      "        370 points by todsacerdoti 5 hours ago  | hide | 123 comments              \n",
      "      \n",
      "                \n",
      "      4.      Cloudflare and the Wayback Machine, joining forces for a more reliable Web (archive.org)\n",
      "        296 points by jgrahamc 5 hours ago  | hide | 67 comments              \n",
      "      \n",
      "                \n",
      "      5.      Never search for domains on Godaddy.com\n",
      "        535 points by wasteme 2 hours ago  | hide | 217 comments              \n",
      "      \n",
      "                \n",
      "      6.      Germany will violate international agreements with Unitary Patent, says FFII (ffii.org)\n",
      "        303 points by zoobab 6 hours ago  | hide | 192 comments              \n",
      "      \n",
      "                \n",
      "      7.      Nintendo 3DS discontinued after almost a decade (bbc.co.uk)\n",
      "        172 points by lloyd678 5 hours ago  | hide | 120 comments              \n",
      "      \n",
      "                \n",
      "      8.      Under Deconstruction: The State of Shopify’s Monolith (shopify.com)\n",
      "        126 points by kenrose 3 hours ago  | hide | 48 comments              \n",
      "      \n",
      "                \n",
      "      9.      YC's Work at a Startup lets you create one application for hundreds of eng jobs (workatastartup.com)\n",
      "        1 hour ago | hide      \n",
      "      \n",
      "                \n",
      "      10.      Thinking Clearly About Correlations and Causation (2018) [pdf] (dacemirror.sci-hub.tw)\n",
      "        45 points by Anon84 2 hours ago  | hide | 5 comments              \n",
      "      \n",
      "                \n",
      "      11.      NIST Samate – Source Code Security Analyzers (nist.gov)\n",
      "        19 points by animationwill 1 hour ago  | hide | discuss              \n",
      "      \n",
      "                \n",
      "      12.      5D chess game where pieces time travel (5dchesswithmultiversetimetravel.com)\n",
      "        14 points by jelliclesfarm 37 minutes ago  | hide | 4 comments              \n",
      "      \n",
      "                \n",
      "      13.      My Favorite Rust Function Signature (brandonsmith.ninja)\n",
      "        147 points by brundolf 3 hours ago  | hide | 61 comments              \n",
      "      \n",
      "                \n",
      "      14.      Dropping modern Python packages into a single program (utoronto.ca)\n",
      "        17 points by pcr910303 2 hours ago  | hide | 15 comments              \n",
      "      \n",
      "                \n",
      "      15.      The Battle over Dyslexia (theguardian.com)\n",
      "        11 points by oska 1 hour ago  | hide | 1 comment              \n",
      "      \n",
      "                \n",
      "      16.      We Don’t Like Our Underground House (dengarden.com)\n",
      "        356 points by jelliclesfarm 11 hours ago  | hide | 240 comments              \n",
      "      \n",
      "                \n",
      "      17.      Covid-19: Do many people have pre-existing immunity? (bmj.com)\n",
      "        153 points by nradov 4 hours ago  | hide | 203 comments              \n",
      "      \n",
      "                \n",
      "      18.      How I learned to charge my customers (idiallo.com)\n",
      "        116 points by benrmatthews 6 hours ago  | hide | 46 comments              \n",
      "      \n",
      "                \n",
      "      19.      Kb. A minimalist hacker-oriented knowledge base manager (github.com)\n",
      "        35 points by nebbiolo 2 hours ago  | hide | 11 comments              \n",
      "      \n",
      "                \n",
      "      20.      Why basic security practices matter for everyone (gitlab.com)\n",
      "        35 points by mooreds 3 hours ago  | hide | 2 comments              \n",
      "      \n",
      "                \n",
      "      21.      This electrical transmission tower has a problem (twitter.com)\n",
      "        1404 points by danso 16 hours ago  | hide | 402 comments              \n",
      "      \n",
      "                \n",
      "      22.      Shutting Down NavHere (jeremyaboyd.com)\n",
      "        42 points by jermaustin1 3 hours ago  | hide | 24 comments              \n",
      "      \n",
      "                \n",
      "      23.      Mozilla Is Crowdsourcing Research into YouTube Recommendations (foundation.mozilla.org)\n",
      "        135 points by fraqed 8 hours ago  | hide | 98 comments              \n",
      "      \n",
      "                \n",
      "      24.      DNA sequencing of Viking skeletons reveals they weren’t all Scandinavian (cam.ac.uk)\n",
      "        14 points by gmays 2 hours ago  | hide | 13 comments              \n",
      "      \n",
      "                \n",
      "      25.      Bakeware – Compile Elixir applications into single executable binaries (github.com)\n",
      "        152 points by tempodox 10 hours ago  | hide | 41 comments              \n",
      "      \n",
      "                \n",
      "      26.      UK government’s plans to regulate the internet are a threat to free speech (freespeechunion.org)\n",
      "        161 points by timthorn 4 hours ago  | hide | 125 comments              \n",
      "      \n",
      "                \n",
      "      27.      Retro Unix Operating System (singlix.com)\n",
      "        39 points by elvis70 4 hours ago  | hide | 4 comments              \n",
      "      \n",
      "                \n",
      "      28.      Ask HN: Is Stripe going to ban Onlyfans for processing adult content payments?\n",
      "        13 points by solaarphunk 33 minutes ago  | hide | 1 comment              \n",
      "      \n",
      "                \n",
      "      29.      How Renormalization Saved Particle Physics (quantamagazine.org)\n",
      "        35 points by theafh 4 hours ago  | hide | 7 comments              \n",
      "      \n",
      "                \n",
      "      30.      Tourists on Tech's Toll Roads (puri.sm)\n",
      "        50 points by teddyh 7 hours ago  | hide | 15 comments              \n",
      "      \n",
      "            More\n",
      "  \n",
      "\n",
      "\n",
      "        Applications are open for YC Winter 2021\n",
      "      Guidelines\n",
      "        | FAQ\n",
      "        | Support\n",
      "        | API\n",
      "        | Security\n",
      "        | Lists\n",
      "        | Bookmarklet\n",
      "        | Legal\n",
      "        | Apply to YC\n",
      "        | ContactSearch:\n",
      "          \n",
      "            \n",
      "      \n",
      "\n"
     ]
    }
   ],
   "source": [
    "from bs4 import BeautifulSoup\n",
    "\n",
    "# Remove HTML tags using Beautiful Soup library\n",
    "soup = BeautifulSoup(r.text, \"html5lib\")\n",
    "print(soup.get_text())"
   ]
  },
  {
   "cell_type": "code",
   "execution_count": 7,
   "metadata": {
    "scrolled": true
   },
   "outputs": [
    {
     "data": {
      "text/plain": [
       "<tr class=\"athing\" id=\"24506744\">\n",
       "      <td align=\"right\" class=\"title\" valign=\"top\"><span class=\"rank\">1.</span></td>      <td class=\"votelinks\" valign=\"top\"><center><a href=\"vote?id=24506744&amp;how=up&amp;goto=news\" id=\"up_24506744\"><div class=\"votearrow\" title=\"upvote\"></div></a></center></td><td class=\"title\"><a class=\"storylink\" href=\"https://jamesmcm.github.io/blog/2020/07/25/intro-dod/\">An Introduction to Data Oriented Design with Rust</a><span class=\"sitebit comhead\"> (<a href=\"from?site=jamesmcm.github.io\"><span class=\"sitestr\">jamesmcm.github.io</span></a>)</span></td></tr>"
      ]
     },
     "execution_count": 7,
     "metadata": {},
     "output_type": "execute_result"
    }
   ],
   "source": [
    "# Find all articles\n",
    "summaries = soup.find_all(\"tr\", class_=\"athing\")\n",
    "summaries[0]"
   ]
  },
  {
   "cell_type": "code",
   "execution_count": 8,
   "metadata": {},
   "outputs": [
    {
     "data": {
      "text/plain": [
       "'An Introduction to Data Oriented Design with Rust'"
      ]
     },
     "execution_count": 8,
     "metadata": {},
     "output_type": "execute_result"
    }
   ],
   "source": [
    "# Extract title\n",
    "summaries[0].find(\"a\", class_=\"storylink\").get_text().strip()"
   ]
  },
  {
   "cell_type": "code",
   "execution_count": 9,
   "metadata": {},
   "outputs": [
    {
     "name": "stdout",
     "output_type": "stream",
     "text": [
      "30 Article summaries found. Sample:\n",
      "An Introduction to Data Oriented Design with Rust\n"
     ]
    }
   ],
   "source": [
    "# Find all articles, extract titles\n",
    "articles = []\n",
    "summaries = soup.find_all(\"tr\", class_=\"athing\")\n",
    "for summary in summaries:\n",
    "    title = summary.find(\"a\", class_=\"storylink\").get_text().strip()\n",
    "    articles.append((title))\n",
    "\n",
    "print(len(articles), \"Article summaries found. Sample:\")\n",
    "print(articles[0])"
   ]
  },
  {
   "cell_type": "markdown",
   "metadata": {},
   "source": [
    "## Normalization"
   ]
  },
  {
   "cell_type": "markdown",
   "metadata": {},
   "source": [
    "### Case Normalization"
   ]
  },
  {
   "cell_type": "code",
   "execution_count": 10,
   "metadata": {},
   "outputs": [
    {
     "name": "stdout",
     "output_type": "stream",
     "text": [
      "The first time you see The Second Renaissance it may look boring. Look at it at least twice and definitely watch part 2. It will change your view of the matrix. Are the human people the ones who started the war ? Is AI a bad thing ?\n"
     ]
    }
   ],
   "source": [
    "# Sample text\n",
    "text = \"The first time you see The Second Renaissance it may look boring. Look at it at least twice and definitely watch part 2. It will change your view of the matrix. Are the human people the ones who started the war ? Is AI a bad thing ?\"\n",
    "print(text)"
   ]
  },
  {
   "cell_type": "code",
   "execution_count": 11,
   "metadata": {},
   "outputs": [
    {
     "name": "stdout",
     "output_type": "stream",
     "text": [
      "the first time you see the second renaissance it may look boring. look at it at least twice and definitely watch part 2. it will change your view of the matrix. are the human people the ones who started the war ? is ai a bad thing ?\n"
     ]
    }
   ],
   "source": [
    "# Convert to lowercase\n",
    "text = text.lower() \n",
    "print(text)"
   ]
  },
  {
   "cell_type": "markdown",
   "metadata": {},
   "source": [
    "### Punctuation Removal"
   ]
  },
  {
   "cell_type": "code",
   "execution_count": 12,
   "metadata": {},
   "outputs": [
    {
     "name": "stdout",
     "output_type": "stream",
     "text": [
      "the first time you see the second renaissance it may look boring  look at it at least twice and definitely watch part 2  it will change your view of the matrix  are the human people the ones who started the war   is ai a bad thing  \n"
     ]
    }
   ],
   "source": [
    "import re\n",
    "\n",
    "# Remove punctuation characters\n",
    "text = re.sub(r\"[^a-zA-Z0-9]\", \" \", text) \n",
    "print(text)"
   ]
  },
  {
   "cell_type": "markdown",
   "metadata": {},
   "source": [
    "## Tokenization"
   ]
  },
  {
   "cell_type": "code",
   "execution_count": 13,
   "metadata": {},
   "outputs": [
    {
     "name": "stdout",
     "output_type": "stream",
     "text": [
      "['the', 'first', 'time', 'you', 'see', 'the', 'second', 'renaissance', 'it', 'may', 'look', 'boring', 'look', 'at', 'it', 'at', 'least', 'twice', 'and', 'definitely', 'watch', 'part', '2', 'it', 'will', 'change', 'your', 'view', 'of', 'the', 'matrix', 'are', 'the', 'human', 'people', 'the', 'ones', 'who', 'started', 'the', 'war', 'is', 'ai', 'a', 'bad', 'thing']\n"
     ]
    }
   ],
   "source": [
    "# Split text into tokens (words)\n",
    "words = text.split()\n",
    "print(words)"
   ]
  },
  {
   "cell_type": "markdown",
   "metadata": {},
   "source": [
    "### NLTK: Natural Language ToolKit"
   ]
  },
  {
   "cell_type": "code",
   "execution_count": 14,
   "metadata": {},
   "outputs": [],
   "source": [
    "import os\n",
    "import nltk\n",
    "nltk.data.path.append(os.path.join(os.getcwd(), \"nltk_data\"))"
   ]
  },
  {
   "cell_type": "code",
   "execution_count": 15,
   "metadata": {},
   "outputs": [
    {
     "name": "stdout",
     "output_type": "stream",
     "text": [
      "Dr. Smith graduated from the University of Washington. He later started an analytics firm called Lux, which catered to enterprise customers.\n"
     ]
    }
   ],
   "source": [
    "# Another sample text\n",
    "text = \"Dr. Smith graduated from the University of Washington. He later started an analytics firm called Lux, which catered to enterprise customers.\"\n",
    "print(text)"
   ]
  },
  {
   "cell_type": "code",
   "execution_count": 17,
   "metadata": {},
   "outputs": [
    {
     "name": "stderr",
     "output_type": "stream",
     "text": [
      "[nltk_data] Downloading package punkt to /home/richard/nltk_data...\n",
      "[nltk_data]   Unzipping tokenizers/punkt.zip.\n"
     ]
    },
    {
     "data": {
      "text/plain": [
       "True"
      ]
     },
     "execution_count": 17,
     "metadata": {},
     "output_type": "execute_result"
    }
   ],
   "source": [
    "nltk.download('punkt')"
   ]
  },
  {
   "cell_type": "code",
   "execution_count": 18,
   "metadata": {},
   "outputs": [
    {
     "name": "stdout",
     "output_type": "stream",
     "text": [
      "['Dr.', 'Smith', 'graduated', 'from', 'the', 'University', 'of', 'Washington', '.', 'He', 'later', 'started', 'an', 'analytics', 'firm', 'called', 'Lux', ',', 'which', 'catered', 'to', 'enterprise', 'customers', '.']\n"
     ]
    }
   ],
   "source": [
    "from nltk.tokenize import word_tokenize\n",
    "\n",
    "# Split text into words using NLTK\n",
    "words = word_tokenize(text)\n",
    "print(words)"
   ]
  },
  {
   "cell_type": "code",
   "execution_count": 19,
   "metadata": {},
   "outputs": [
    {
     "name": "stdout",
     "output_type": "stream",
     "text": [
      "['Dr. Smith graduated from the University of Washington.', 'He later started an analytics firm called Lux, which catered to enterprise customers.']\n"
     ]
    }
   ],
   "source": [
    "from nltk.tokenize import sent_tokenize\n",
    "\n",
    "# Split text into sentences\n",
    "sentences = sent_tokenize(text)\n",
    "print(sentences)"
   ]
  },
  {
   "cell_type": "code",
   "execution_count": 21,
   "metadata": {},
   "outputs": [
    {
     "name": "stderr",
     "output_type": "stream",
     "text": [
      "[nltk_data] Downloading package stopwords to\n",
      "[nltk_data]     /home/richard/nltk_data...\n",
      "[nltk_data]   Unzipping corpora/stopwords.zip.\n"
     ]
    },
    {
     "data": {
      "text/plain": [
       "True"
      ]
     },
     "execution_count": 21,
     "metadata": {},
     "output_type": "execute_result"
    }
   ],
   "source": [
    "nltk.download('stopwords')"
   ]
  },
  {
   "cell_type": "code",
   "execution_count": 22,
   "metadata": {},
   "outputs": [
    {
     "name": "stdout",
     "output_type": "stream",
     "text": [
      "['i', 'me', 'my', 'myself', 'we', 'our', 'ours', 'ourselves', 'you', \"you're\", \"you've\", \"you'll\", \"you'd\", 'your', 'yours', 'yourself', 'yourselves', 'he', 'him', 'his', 'himself', 'she', \"she's\", 'her', 'hers', 'herself', 'it', \"it's\", 'its', 'itself', 'they', 'them', 'their', 'theirs', 'themselves', 'what', 'which', 'who', 'whom', 'this', 'that', \"that'll\", 'these', 'those', 'am', 'is', 'are', 'was', 'were', 'be', 'been', 'being', 'have', 'has', 'had', 'having', 'do', 'does', 'did', 'doing', 'a', 'an', 'the', 'and', 'but', 'if', 'or', 'because', 'as', 'until', 'while', 'of', 'at', 'by', 'for', 'with', 'about', 'against', 'between', 'into', 'through', 'during', 'before', 'after', 'above', 'below', 'to', 'from', 'up', 'down', 'in', 'out', 'on', 'off', 'over', 'under', 'again', 'further', 'then', 'once', 'here', 'there', 'when', 'where', 'why', 'how', 'all', 'any', 'both', 'each', 'few', 'more', 'most', 'other', 'some', 'such', 'no', 'nor', 'not', 'only', 'own', 'same', 'so', 'than', 'too', 'very', 's', 't', 'can', 'will', 'just', 'don', \"don't\", 'should', \"should've\", 'now', 'd', 'll', 'm', 'o', 're', 've', 'y', 'ain', 'aren', \"aren't\", 'couldn', \"couldn't\", 'didn', \"didn't\", 'doesn', \"doesn't\", 'hadn', \"hadn't\", 'hasn', \"hasn't\", 'haven', \"haven't\", 'isn', \"isn't\", 'ma', 'mightn', \"mightn't\", 'mustn', \"mustn't\", 'needn', \"needn't\", 'shan', \"shan't\", 'shouldn', \"shouldn't\", 'wasn', \"wasn't\", 'weren', \"weren't\", 'won', \"won't\", 'wouldn', \"wouldn't\"]\n"
     ]
    }
   ],
   "source": [
    "# List stop words\n",
    "from nltk.corpus import stopwords\n",
    "print(stopwords.words(\"english\"))"
   ]
  },
  {
   "cell_type": "code",
   "execution_count": 23,
   "metadata": {},
   "outputs": [
    {
     "name": "stdout",
     "output_type": "stream",
     "text": [
      "['the', 'first', 'time', 'you', 'see', 'the', 'second', 'renaissance', 'it', 'may', 'look', 'boring', 'look', 'at', 'it', 'at', 'least', 'twice', 'and', 'definitely', 'watch', 'part', '2', 'it', 'will', 'change', 'your', 'view', 'of', 'the', 'matrix', 'are', 'the', 'human', 'people', 'the', 'ones', 'who', 'started', 'the', 'war', 'is', 'ai', 'a', 'bad', 'thing']\n"
     ]
    }
   ],
   "source": [
    "# Reset text\n",
    "text = \"The first time you see The Second Renaissance it may look boring. Look at it at least twice and definitely watch part 2. It will change your view of the matrix. Are the human people the ones who started the war ? Is AI a bad thing ?\"\n",
    "\n",
    "# Normalize it\n",
    "text = re.sub(r\"[^a-zA-Z0-9]\", \" \", text.lower())\n",
    "\n",
    "# Tokenize it\n",
    "words = text.split()\n",
    "print(words)"
   ]
  },
  {
   "cell_type": "code",
   "execution_count": 24,
   "metadata": {},
   "outputs": [
    {
     "name": "stdout",
     "output_type": "stream",
     "text": [
      "['first', 'time', 'see', 'second', 'renaissance', 'may', 'look', 'boring', 'look', 'least', 'twice', 'definitely', 'watch', 'part', '2', 'change', 'view', 'matrix', 'human', 'people', 'ones', 'started', 'war', 'ai', 'bad', 'thing']\n"
     ]
    }
   ],
   "source": [
    "# Remove stop words\n",
    "words = [w for w in words if w not in stopwords.words(\"english\")]\n",
    "print(words)"
   ]
  },
  {
   "cell_type": "markdown",
   "metadata": {},
   "source": [
    "### Sentence Parsing"
   ]
  },
  {
   "cell_type": "code",
   "execution_count": 25,
   "metadata": {},
   "outputs": [
    {
     "name": "stdout",
     "output_type": "stream",
     "text": [
      "(S\n",
      "  (NP I)\n",
      "  (VP\n",
      "    (VP (V shot) (NP (Det an) (N elephant)))\n",
      "    (PP (P in) (NP (Det my) (N pajamas)))))\n",
      "(S\n",
      "  (NP I)\n",
      "  (VP\n",
      "    (V shot)\n",
      "    (NP (Det an) (N elephant) (PP (P in) (NP (Det my) (N pajamas))))))\n"
     ]
    }
   ],
   "source": [
    "import nltk\n",
    "\n",
    "# Define a custom grammar\n",
    "my_grammar = nltk.CFG.fromstring(\"\"\"\n",
    "S -> NP VP\n",
    "PP -> P NP\n",
    "NP -> Det N | Det N PP | 'I'\n",
    "VP -> V NP | VP PP\n",
    "Det -> 'an' | 'my'\n",
    "N -> 'elephant' | 'pajamas'\n",
    "V -> 'shot'\n",
    "P -> 'in'\n",
    "\"\"\")\n",
    "parser = nltk.ChartParser(my_grammar)\n",
    "\n",
    "# Parse a sentence\n",
    "sentence = word_tokenize(\"I shot an elephant in my pajamas\")\n",
    "for tree in parser.parse(sentence):\n",
    "    print(tree)"
   ]
  },
  {
   "cell_type": "markdown",
   "metadata": {},
   "source": [
    "## Stemming & Lemmatization\n",
    "\n",
    "### Stemming"
   ]
  },
  {
   "cell_type": "code",
   "execution_count": 26,
   "metadata": {},
   "outputs": [
    {
     "name": "stdout",
     "output_type": "stream",
     "text": [
      "['first', 'time', 'see', 'second', 'renaiss', 'may', 'look', 'bore', 'look', 'least', 'twice', 'definit', 'watch', 'part', '2', 'chang', 'view', 'matrix', 'human', 'peopl', 'one', 'start', 'war', 'ai', 'bad', 'thing']\n"
     ]
    }
   ],
   "source": [
    "from nltk.stem.porter import PorterStemmer\n",
    "\n",
    "# Reduce words to their stems\n",
    "stemmed = [PorterStemmer().stem(w) for w in words]\n",
    "print(stemmed)"
   ]
  },
  {
   "cell_type": "markdown",
   "metadata": {},
   "source": [
    "### Lemmatization"
   ]
  },
  {
   "cell_type": "code",
   "execution_count": 28,
   "metadata": {},
   "outputs": [
    {
     "name": "stderr",
     "output_type": "stream",
     "text": [
      "[nltk_data] Downloading package wordnet to /home/richard/nltk_data...\n",
      "[nltk_data]   Unzipping corpora/wordnet.zip.\n"
     ]
    },
    {
     "data": {
      "text/plain": [
       "True"
      ]
     },
     "execution_count": 28,
     "metadata": {},
     "output_type": "execute_result"
    }
   ],
   "source": [
    "nltk.download('wordnet')"
   ]
  },
  {
   "cell_type": "code",
   "execution_count": 29,
   "metadata": {},
   "outputs": [
    {
     "name": "stdout",
     "output_type": "stream",
     "text": [
      "['first', 'time', 'see', 'second', 'renaissance', 'may', 'look', 'boring', 'look', 'least', 'twice', 'definitely', 'watch', 'part', '2', 'change', 'view', 'matrix', 'human', 'people', 'one', 'started', 'war', 'ai', 'bad', 'thing']\n"
     ]
    }
   ],
   "source": [
    "from nltk.stem.wordnet import WordNetLemmatizer\n",
    "\n",
    "# Reduce words to their root form\n",
    "lemmed = [WordNetLemmatizer().lemmatize(w) for w in words]\n",
    "print(lemmed)"
   ]
  },
  {
   "cell_type": "code",
   "execution_count": 30,
   "metadata": {},
   "outputs": [
    {
     "name": "stdout",
     "output_type": "stream",
     "text": [
      "['first', 'time', 'see', 'second', 'renaissance', 'may', 'look', 'bore', 'look', 'least', 'twice', 'definitely', 'watch', 'part', '2', 'change', 'view', 'matrix', 'human', 'people', 'one', 'start', 'war', 'ai', 'bad', 'thing']\n"
     ]
    }
   ],
   "source": [
    "# Lemmatize verbs by specifying pos\n",
    "lemmed = [WordNetLemmatizer().lemmatize(w, pos='v') for w in lemmed]\n",
    "print(lemmed)"
   ]
  },
  {
   "cell_type": "code",
   "execution_count": null,
   "metadata": {},
   "outputs": [],
   "source": []
  }
 ],
 "metadata": {
  "kernelspec": {
   "display_name": "Python [conda env:master] *",
   "language": "python",
   "name": "conda-env-master-py"
  },
  "language_info": {
   "codemirror_mode": {
    "name": "ipython",
    "version": 3
   },
   "file_extension": ".py",
   "mimetype": "text/x-python",
   "name": "python",
   "nbconvert_exporter": "python",
   "pygments_lexer": "ipython3",
   "version": "3.8.5"
  }
 },
 "nbformat": 4,
 "nbformat_minor": 4
}
