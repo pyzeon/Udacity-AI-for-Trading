{
 "cells": [
  {
   "cell_type": "markdown",
   "metadata": {},
   "source": [
    "# Text Processing\n",
    "\n",
    "## Capturing Text Data\n",
    "\n",
    "### Plain Text"
   ]
  },
  {
   "cell_type": "code",
   "execution_count": 1,
   "metadata": {},
   "outputs": [
    {
     "name": "stdout",
     "output_type": "stream",
     "text": [
      "Hieroglyphic writing dates from c. 3000 BC, and is composed of hundreds of symbols. A hieroglyph can represent a word, a sound, or a silent determinative; and the same symbol can serve different purposes in different contexts. Hieroglyphs were a formal script, used on stone monuments and in tombs, that could be as detailed as individual works of art.\n",
      "\n"
     ]
    }
   ],
   "source": [
    "import os\n",
    "\n",
    "# Read in a plain text file\n",
    "with open(os.path.join(\"data\", \"hieroglyph.txt\"), \"r\") as f:\n",
    "    text = f.read()\n",
    "    print(text)"
   ]
  },
  {
   "cell_type": "markdown",
   "metadata": {},
   "source": [
    "### Tabular Data"
   ]
  },
  {
   "cell_type": "code",
   "execution_count": 2,
   "metadata": {
    "scrolled": true
   },
   "outputs": [
    {
     "data": {
      "text/html": [
       "<div>\n",
       "<style scoped>\n",
       "    .dataframe tbody tr th:only-of-type {\n",
       "        vertical-align: middle;\n",
       "    }\n",
       "\n",
       "    .dataframe tbody tr th {\n",
       "        vertical-align: top;\n",
       "    }\n",
       "\n",
       "    .dataframe thead th {\n",
       "        text-align: right;\n",
       "    }\n",
       "</style>\n",
       "<table border=\"1\" class=\"dataframe\">\n",
       "  <thead>\n",
       "    <tr style=\"text-align: right;\">\n",
       "      <th></th>\n",
       "      <th>publisher</th>\n",
       "      <th>title</th>\n",
       "    </tr>\n",
       "  </thead>\n",
       "  <tbody>\n",
       "    <tr>\n",
       "      <th>0</th>\n",
       "      <td>Livemint</td>\n",
       "      <td>fed's charles plosser sees high bar for change...</td>\n",
       "    </tr>\n",
       "    <tr>\n",
       "      <th>1</th>\n",
       "      <td>IFA Magazine</td>\n",
       "      <td>us open: stocks fall after fed official hints ...</td>\n",
       "    </tr>\n",
       "    <tr>\n",
       "      <th>2</th>\n",
       "      <td>IFA Magazine</td>\n",
       "      <td>fed risks falling 'behind the curve', charles ...</td>\n",
       "    </tr>\n",
       "    <tr>\n",
       "      <th>3</th>\n",
       "      <td>Moneynews</td>\n",
       "      <td>fed's plosser: nasty weather has curbed job gr...</td>\n",
       "    </tr>\n",
       "    <tr>\n",
       "      <th>4</th>\n",
       "      <td>NASDAQ</td>\n",
       "      <td>plosser: fed may have to accelerate tapering pace</td>\n",
       "    </tr>\n",
       "  </tbody>\n",
       "</table>\n",
       "</div>"
      ],
      "text/plain": [
       "      publisher                                              title\n",
       "0      Livemint  fed's charles plosser sees high bar for change...\n",
       "1  IFA Magazine  us open: stocks fall after fed official hints ...\n",
       "2  IFA Magazine  fed risks falling 'behind the curve', charles ...\n",
       "3     Moneynews  fed's plosser: nasty weather has curbed job gr...\n",
       "4        NASDAQ  plosser: fed may have to accelerate tapering pace"
      ]
     },
     "execution_count": 2,
     "metadata": {},
     "output_type": "execute_result"
    }
   ],
   "source": [
    "import pandas as pd\n",
    "\n",
    "# Extract text column from a dataframe\n",
    "df = pd.read_csv(os.path.join(\"data\", \"news.csv\"))\n",
    "df.head()[['publisher', 'title']]\n",
    "\n",
    "# Convert text column to lowercase\n",
    "df['title'] = df['title'].str.lower()\n",
    "df.head()[['publisher', 'title']]"
   ]
  },
  {
   "cell_type": "markdown",
   "metadata": {},
   "source": [
    "### Online Resource"
   ]
  },
  {
   "cell_type": "code",
   "execution_count": 3,
   "metadata": {
    "scrolled": true
   },
   "outputs": [
    {
     "name": "stdout",
     "output_type": "stream",
     "text": [
      "{\n",
      "    \"success\": {\n",
      "        \"total\": 1\n",
      "    },\n",
      "    \"contents\": {\n",
      "        \"quotes\": [\n",
      "            {\n",
      "                \"quote\": \"Every day you have a choice to be honest or deceptive. If you commit to telling the truth, you will win. You\\u2019ll win more trust, you\\u2019ll win more business, and you\\u2019ll win more peace of mind. You\\u2019ll break the system and be even more successful.\",\n",
      "                \"length\": \"269\",\n",
      "                \"author\": \"Dale Patridge\",\n",
      "                \"tags\": {\n",
      "                    \"0\": \"honest\",\n",
      "                    \"1\": \"inspire\",\n",
      "                    \"2\": \"success\",\n",
      "                    \"4\": \"truth\",\n",
      "                    \"5\": \"win\"\n",
      "                },\n",
      "                \"category\": \"inspire\",\n",
      "                \"language\": \"en\",\n",
      "                \"date\": \"2020-07-29\",\n",
      "                \"permalink\": \"https://theysaidso.com/quote/dale-patridge-every-day-you-have-a-choice-to-be-honest-or-deceptive-if-you-commi\",\n",
      "                \"id\": \"ALTQKodcrj3X6ypM8lGjnAeF\",\n",
      "                \"background\": \"https://theysaidso.com/img/qod/qod-inspire.jpg\",\n",
      "                \"title\": \"Inspiring Quote of the day\"\n",
      "            }\n",
      "        ]\n",
      "    },\n",
      "    \"baseurl\": \"https://theysaidso.com\",\n",
      "    \"copyright\": {\n",
      "        \"year\": 2022,\n",
      "        \"url\": \"https://theysaidso.com\"\n",
      "    }\n",
      "}\n",
      "Every day you have a choice to be honest or deceptive. If you commit to telling the truth, you will win. You’ll win more trust, you’ll win more business, and you’ll win more peace of mind. You’ll break the system and be even more successful. \n",
      "-- Dale Patridge\n"
     ]
    }
   ],
   "source": [
    "import requests\n",
    "import json\n",
    "\n",
    "# Fetch data from a REST API\n",
    "r = requests.get(\n",
    "    \"https://quotes.rest/qod.json\")\n",
    "res = r.json()\n",
    "print(json.dumps(res, indent=4))\n",
    "\n",
    "# Extract relevant object and field\n",
    "q = res[\"contents\"][\"quotes\"][0]\n",
    "print(q[\"quote\"], \"\\n--\", q[\"author\"])"
   ]
  },
  {
   "cell_type": "markdown",
   "metadata": {},
   "source": [
    "## Cleaning"
   ]
  },
  {
   "cell_type": "code",
   "execution_count": 4,
   "metadata": {
    "scrolled": true
   },
   "outputs": [
    {
     "name": "stdout",
     "output_type": "stream",
     "text": [
      "<html lang=\"en\" op=\"news\"><head><meta name=\"referrer\" content=\"origin\"><meta name=\"viewport\" content=\"width=device-width, initial-scale=1.0\"><link rel=\"stylesheet\" type=\"text/css\" href=\"news.css?VgsfVZUUoJCNknWecJe0\">\n",
      "        <link rel=\"shortcut icon\" href=\"favicon.ico\">\n",
      "          <link rel=\"alternate\" type=\"application/rss+xml\" title=\"RSS\" href=\"rss\">\n",
      "        <title>Hacker News</title></head><body><center><table id=\"hnmain\" border=\"0\" cellpadding=\"0\" cellspacing=\"0\" width=\"85%\" bgcolor=\"#f6f6ef\">\n",
      "        <tr><td bgcolor=\"#ff6600\"><table border=\"0\" cellpadding=\"0\" cellspacing=\"0\" width=\"100%\" style=\"padding:2px\"><tr><td style=\"width:18px;padding-right:4px\"><a href=\"https://news.ycombinator.com\"><img src=\"y18.gif\" width=\"18\" height=\"18\" style=\"border:1px white solid;\"></a></td>\n",
      "                  <td style=\"line-height:12pt; height:10px;\"><span class=\"pagetop\"><b class=\"hnname\"><a href=\"news\">Hacker News</a></b>\n",
      "              <a href=\"newest\">new</a> | <a href=\"front\">past</a> | <a href=\"newcomments\">comments</a> | <a href=\"ask\">ask</a> | <a href=\"show\">show</a> | <a href=\"jobs\">jobs</a> | <a href=\"submit\">submit</a>            </span></td><td style=\"text-align:right;padding-right:4px;\"><span class=\"pagetop\">\n",
      "                              <a href=\"login?goto=news\">login</a>\n",
      "                          </span></td>\n",
      "              </tr></table></td></tr>\n",
      "<tr id=\"pagespace\" title=\"\" style=\"height:10px\"></tr><tr><td><table border=\"0\" cellpadding=\"0\" cellspacing=\"0\" class=\"itemlist\">\n",
      "              <tr class='athing' id='23989738'>\n",
      "      <td align=\"right\" valign=\"top\" class=\"title\"><span class=\"rank\">1.</span></td>      <td valign=\"top\" class=\"votelinks\"><center><a id='up_23989738' href='vote?id=23989738&amp;how=up&amp;goto=news'><div class='votearrow' title='upvote'></div></a></center></td><td class=\"title\"><a href=\"https://developer.squareup.com/blog/the-state-of-ruby-3-typing\" class=\"storylink\">RBS, Ruby’s new type signature language</a><span class=\"sitebit comhead\"> (<a href=\"from?site=squareup.com\"><span class=\"sitestr\">squareup.com</span></a>)</span></td></tr><tr><td colspan=\"2\"></td><td class=\"subtext\">\n",
      "        <span class=\"score\" id=\"score_23989738\">104 points</span> by <a href=\"user?id=mootrichard\" class=\"hnuser\">mootrichard</a> <span class=\"age\"><a href=\"item?id=23989738\">1 hour ago</a></span> <span id=\"unv_23989738\"></span> | <a href=\"hide?id=23989738&amp;goto=news\">hide</a> | <a href=\"item?id=23989738\">36&nbsp;comments</a>              </td></tr>\n",
      "      <tr class=\"spacer\" style=\"height:5px\"></tr>\n",
      "                <tr class='athing' id='23989215'>\n",
      "      <td align=\"right\" valign=\"top\" class=\"title\"><span class=\"rank\">2.</span></td>      <td valign=\"top\" class=\"votelinks\"><center><a id='up_23989215' href='vote?id=23989215&amp;how=up&amp;goto=news'><div class='votearrow' title='upvote'></div></a></center></td><td class=\"title\"><a href=\"https://arr.am/2020/07/25/gpt-3-uncertainty-prompts/\" class=\"storylink\">Teaching GPT-3 to Identify Nonsense</a><span class=\"sitebit comhead\"> (<a href=\"from?site=arr.am\"><span class=\"sitestr\">arr.am</span></a>)</span></td></tr><tr><td colspan=\"2\"></td><td class=\"subtext\">\n",
      "        <span class=\"score\" id=\"score_23989215\">84 points</span> by <a href=\"user?id=tosh\" class=\"hnuser\">tosh</a> <span class=\"age\"><a href=\"item?id=23989215\">2 hours ago</a></span> <span id=\"unv_23989215\"></span> | <a href=\"hide?id=23989215&amp;goto=news\">hide</a> | <a href=\"item?id=23989215\">16&nbsp;comments</a>              </td></tr>\n",
      "      <tr class=\"spacer\" style=\"height:5px\"></tr>\n",
      "                <tr class='athing' id='23984503'>\n",
      "      <td align=\"right\" valign=\"top\" class=\"title\"><span class=\"rank\">3.</span></td>      <td valign=\"top\" class=\"votelinks\"><center><a id='up_23984503' href='vote?id=23984503&amp;how=up&amp;goto=news'><div class='votearrow' title='upvote'></div></a></center></td><td class=\"title\"><a href=\"http://del.icio.us/\" class=\"storylink\">Del.icio.us</a><span class=\"sitebit comhead\"> (<a href=\"from?site=del.icio.us\"><span class=\"sitestr\">del.icio.us</span></a>)</span></td></tr><tr><td colspan=\"2\"></td><td class=\"subtext\">\n",
      "        <span class=\"score\" id=\"score_23984503\">1224 points</span> by <a href=\"user?id=kome\" class=\"hnuser\">kome</a> <span class=\"age\"><a href=\"item?id=23984503\">11 hours ago</a></span> <span id=\"unv_23984503\"></span> | <a href=\"hide?id=23984503&amp;goto=news\">hide</a> | <a href=\"item?id=23984503\">373&nbsp;comments</a>              </td></tr>\n",
      "      <tr class=\"spacer\" style=\"height:5px\"></tr>\n",
      "                <tr class='athing' id='23987760'>\n",
      "      <td align=\"right\" valign=\"top\" class=\"title\"><span class=\"rank\">4.</span></td>      <td valign=\"top\" class=\"votelinks\"><center><a id='up_23987760' href='vote?id=23987760&amp;how=up&amp;goto=news'><div class='votearrow' title='upvote'></div></a></center></td><td class=\"title\"><a href=\"https://www.calvertjournal.com/articles/show/7605/soviet-internet-cybernetics-viktor-glushkov\" class=\"storylink\">The Soviet web: the tale of how the USSR almost invented the internet (2017)</a><span class=\"sitebit comhead\"> (<a href=\"from?site=calvertjournal.com\"><span class=\"sitestr\">calvertjournal.com</span></a>)</span></td></tr><tr><td colspan=\"2\"></td><td class=\"subtext\">\n",
      "        <span class=\"score\" id=\"score_23987760\">151 points</span> by <a href=\"user?id=tosh\" class=\"hnuser\">tosh</a> <span class=\"age\"><a href=\"item?id=23987760\">4 hours ago</a></span> <span id=\"unv_23987760\"></span> | <a href=\"hide?id=23987760&amp;goto=news\">hide</a> | <a href=\"item?id=23987760\">105&nbsp;comments</a>              </td></tr>\n",
      "      <tr class=\"spacer\" style=\"height:5px\"></tr>\n",
      "                <tr class='athing' id='23983501'>\n",
      "      <td align=\"right\" valign=\"top\" class=\"title\"><span class=\"rank\">5.</span></td>      <td valign=\"top\" class=\"votelinks\"><center><a id='up_23983501' href='vote?id=23983501&amp;how=up&amp;goto=news'><div class='votearrow' title='upvote'></div></a></center></td><td class=\"title\"><a href=\"https://medium.com/@obskyr/the-secret-origin-of-the-action-rpg-254a180079dd\" class=\"storylink\">The Secret Origin of the Action RPG</a><span class=\"sitebit comhead\"> (<a href=\"from?site=medium.com\"><span class=\"sitestr\">medium.com</span></a>)</span></td></tr><tr><td colspan=\"2\"></td><td class=\"subtext\">\n",
      "        <span class=\"score\" id=\"score_23983501\">34 points</span> by <a href=\"user?id=polm23\" class=\"hnuser\">polm23</a> <span class=\"age\"><a href=\"item?id=23983501\">1 hour ago</a></span> <span id=\"unv_23983501\"></span> | <a href=\"hide?id=23983501&amp;goto=news\">hide</a> | <a href=\"item?id=23983501\">1&nbsp;comment</a>              </td></tr>\n",
      "      <tr class=\"spacer\" style=\"height:5px\"></tr>\n",
      "                <tr class='athing' id='23988437'>\n",
      "      <td align=\"right\" valign=\"top\" class=\"title\"><span class=\"rank\">6.</span></td>      <td valign=\"top\" class=\"votelinks\"><center><a id='up_23988437' href='vote?id=23988437&amp;how=up&amp;goto=news'><div class='votearrow' title='upvote'></div></a></center></td><td class=\"title\"><a href=\"https://blog.libro.fm/the-harmful-impact-of-audible-exclusive-audiobooks/\" class=\"storylink\">The Harmful Impact of Audible Exclusive Audiobooks</a><span class=\"sitebit comhead\"> (<a href=\"from?site=libro.fm\"><span class=\"sitestr\">libro.fm</span></a>)</span></td></tr><tr><td colspan=\"2\"></td><td class=\"subtext\">\n",
      "        <span class=\"score\" id=\"score_23988437\">75 points</span> by <a href=\"user?id=edward\" class=\"hnuser\">edward</a> <span class=\"age\"><a href=\"item?id=23988437\">3 hours ago</a></span> <span id=\"unv_23988437\"></span> | <a href=\"hide?id=23988437&amp;goto=news\">hide</a> | <a href=\"item?id=23988437\">57&nbsp;comments</a>              </td></tr>\n",
      "      <tr class=\"spacer\" style=\"height:5px\"></tr>\n",
      "                <tr class='athing' id='23987584'>\n",
      "      <td align=\"right\" valign=\"top\" class=\"title\"><span class=\"rank\">7.</span></td>      <td valign=\"top\" class=\"votelinks\"><center><a id='up_23987584' href='vote?id=23987584&amp;how=up&amp;goto=news'><div class='votearrow' title='upvote'></div></a></center></td><td class=\"title\"><a href=\"https://twitter.com/twolivesleft/status/1288344977169235968\" class=\"storylink\">When a customer refunds your paid app, Apple doesn’t refund the 30% cut</a><span class=\"sitebit comhead\"> (<a href=\"from?site=twitter.com\"><span class=\"sitestr\">twitter.com</span></a>)</span></td></tr><tr><td colspan=\"2\"></td><td class=\"subtext\">\n",
      "        <span class=\"score\" id=\"score_23987584\">679 points</span> by <a href=\"user?id=tomduncalf\" class=\"hnuser\">tomduncalf</a> <span class=\"age\"><a href=\"item?id=23987584\">4 hours ago</a></span> <span id=\"unv_23987584\"></span> | <a href=\"hide?id=23987584&amp;goto=news\">hide</a> | <a href=\"item?id=23987584\">349&nbsp;comments</a>              </td></tr>\n",
      "      <tr class=\"spacer\" style=\"height:5px\"></tr>\n",
      "                <tr class='athing' id='23988269'>\n",
      "      <td align=\"right\" valign=\"top\" class=\"title\"><span class=\"rank\">8.</span></td>      <td valign=\"top\" class=\"votelinks\"><center><a id='up_23988269' href='vote?id=23988269&amp;how=up&amp;goto=news'><div class='votearrow' title='upvote'></div></a></center></td><td class=\"title\"><a href=\"https://www.schemastore.org/json/\" class=\"storylink\">Schemastore.org – schemas for all commonly known JSON file formats</a><span class=\"sitebit comhead\"> (<a href=\"from?site=schemastore.org\"><span class=\"sitestr\">schemastore.org</span></a>)</span></td></tr><tr><td colspan=\"2\"></td><td class=\"subtext\">\n",
      "        <span class=\"score\" id=\"score_23988269\">77 points</span> by <a href=\"user?id=simon04\" class=\"hnuser\">simon04</a> <span class=\"age\"><a href=\"item?id=23988269\">3 hours ago</a></span> <span id=\"unv_23988269\"></span> | <a href=\"hide?id=23988269&amp;goto=news\">hide</a> | <a href=\"item?id=23988269\">21&nbsp;comments</a>              </td></tr>\n",
      "      <tr class=\"spacer\" style=\"height:5px\"></tr>\n",
      "                <tr class='athing' id='23985825'>\n",
      "      <td align=\"right\" valign=\"top\" class=\"title\"><span class=\"rank\">9.</span></td>      <td valign=\"top\" class=\"votelinks\"><center><a id='up_23985825' href='vote?id=23985825&amp;how=up&amp;goto=news'><div class='votearrow' title='upvote'></div></a></center></td><td class=\"title\"><a href=\"https://pluvoir.netlify.app/index.html\" class=\"storylink\">Show HN: WebGL simulation of rainy autumn day/evening</a><span class=\"sitebit comhead\"> (<a href=\"from?site=pluvoir.netlify.app\"><span class=\"sitestr\">pluvoir.netlify.app</span></a>)</span></td></tr><tr><td colspan=\"2\"></td><td class=\"subtext\">\n",
      "        <span class=\"score\" id=\"score_23985825\">269 points</span> by <a href=\"user?id=maxraz\" class=\"hnuser\">maxraz</a> <span class=\"age\"><a href=\"item?id=23985825\">7 hours ago</a></span> <span id=\"unv_23985825\"></span> | <a href=\"hide?id=23985825&amp;goto=news\">hide</a> | <a href=\"item?id=23985825\">47&nbsp;comments</a>              </td></tr>\n",
      "      <tr class=\"spacer\" style=\"height:5px\"></tr>\n",
      "                <tr class='athing' id='23986773'>\n",
      "      <td align=\"right\" valign=\"top\" class=\"title\"><span class=\"rank\">10.</span></td>      <td valign=\"top\" class=\"votelinks\"><center><a id='up_23986773' href='vote?id=23986773&amp;how=up&amp;goto=news'><div class='votearrow' title='upvote'></div></a></center></td><td class=\"title\"><a href=\"https://hakibenita.com/sql-tricks-application-dba\" class=\"storylink\">Some SQL Tricks of an Application DBA</a><span class=\"sitebit comhead\"> (<a href=\"from?site=hakibenita.com\"><span class=\"sitestr\">hakibenita.com</span></a>)</span></td></tr><tr><td colspan=\"2\"></td><td class=\"subtext\">\n",
      "        <span class=\"score\" id=\"score_23986773\">118 points</span> by <a href=\"user?id=samokhvalov\" class=\"hnuser\">samokhvalov</a> <span class=\"age\"><a href=\"item?id=23986773\">5 hours ago</a></span> <span id=\"unv_23986773\"></span> | <a href=\"hide?id=23986773&amp;goto=news\">hide</a> | <a href=\"item?id=23986773\">29&nbsp;comments</a>              </td></tr>\n",
      "      <tr class=\"spacer\" style=\"height:5px\"></tr>\n",
      "                <tr class='athing' id='23986925'>\n",
      "      <td align=\"right\" valign=\"top\" class=\"title\"><span class=\"rank\">11.</span></td>      <td valign=\"top\" class=\"votelinks\"><center><a id='up_23986925' href='vote?id=23986925&amp;how=up&amp;goto=news'><div class='votearrow' title='upvote'></div></a></center></td><td class=\"title\"><a href=\"https://tech.marksblogg.com/omnisci-macos-macbookpro-mbp.html\" class=\"storylink\">1.1B Taxi Rides Using OmniSciDB and a MacBook Pro</a><span class=\"sitebit comhead\"> (<a href=\"from?site=marksblogg.com\"><span class=\"sitestr\">marksblogg.com</span></a>)</span></td></tr><tr><td colspan=\"2\"></td><td class=\"subtext\">\n",
      "        <span class=\"score\" id=\"score_23986925\">137 points</span> by <a href=\"user?id=tmostak\" class=\"hnuser\">tmostak</a> <span class=\"age\"><a href=\"item?id=23986925\">5 hours ago</a></span> <span id=\"unv_23986925\"></span> | <a href=\"hide?id=23986925&amp;goto=news\">hide</a> | <a href=\"item?id=23986925\">30&nbsp;comments</a>              </td></tr>\n",
      "      <tr class=\"spacer\" style=\"height:5px\"></tr>\n",
      "                <tr class='athing' id='23989035'>\n",
      "      <td align=\"right\" valign=\"top\" class=\"title\"><span class=\"rank\">12.</span></td>      <td valign=\"top\" class=\"votelinks\"><center><a id='up_23989035' href='vote?id=23989035&amp;how=up&amp;goto=news'><div class='votearrow' title='upvote'></div></a></center></td><td class=\"title\"><a href=\"https://webkit.org/blog/10308/speculation-in-javascriptcore/\" class=\"storylink\">Speculation in JavaScriptCore</a><span class=\"sitebit comhead\"> (<a href=\"from?site=webkit.org\"><span class=\"sitestr\">webkit.org</span></a>)</span></td></tr><tr><td colspan=\"2\"></td><td class=\"subtext\">\n",
      "        <span class=\"score\" id=\"score_23989035\">58 points</span> by <a href=\"user?id=pizlonator\" class=\"hnuser\">pizlonator</a> <span class=\"age\"><a href=\"item?id=23989035\">2 hours ago</a></span> <span id=\"unv_23989035\"></span> | <a href=\"hide?id=23989035&amp;goto=news\">hide</a> | <a href=\"item?id=23989035\">4&nbsp;comments</a>              </td></tr>\n",
      "      <tr class=\"spacer\" style=\"height:5px\"></tr>\n",
      "                <tr class='athing' id='23987346'>\n",
      "      <td align=\"right\" valign=\"top\" class=\"title\"><span class=\"rank\">13.</span></td>      <td valign=\"top\" class=\"votelinks\"><center><a id='up_23987346' href='vote?id=23987346&amp;how=up&amp;goto=news'><div class='votearrow' title='upvote'></div></a></center></td><td class=\"title\"><a href=\"https://www.bbc.co.uk/news/technology-53581762\" class=\"storylink\">Google offers refunds after smart glasses stop working</a><span class=\"sitebit comhead\"> (<a href=\"from?site=bbc.co.uk\"><span class=\"sitestr\">bbc.co.uk</span></a>)</span></td></tr><tr><td colspan=\"2\"></td><td class=\"subtext\">\n",
      "        <span class=\"score\" id=\"score_23987346\">73 points</span> by <a href=\"user?id=AndrewDucker\" class=\"hnuser\">AndrewDucker</a> <span class=\"age\"><a href=\"item?id=23987346\">4 hours ago</a></span> <span id=\"unv_23987346\"></span> | <a href=\"hide?id=23987346&amp;goto=news\">hide</a> | <a href=\"item?id=23987346\">42&nbsp;comments</a>              </td></tr>\n",
      "      <tr class=\"spacer\" style=\"height:5px\"></tr>\n",
      "                <tr class='athing' id='23987353'>\n",
      "      <td align=\"right\" valign=\"top\" class=\"title\"><span class=\"rank\">14.</span></td>      <td valign=\"top\" class=\"votelinks\"><center><a id='up_23987353' href='vote?id=23987353&amp;how=up&amp;goto=news'><div class='votearrow' title='upvote'></div></a></center></td><td class=\"title\"><a href=\"item?id=23987353\" class=\"storylink\">Launch HN: Humanloop (YC S20) – A platform to annotate, train and deploy NLP</a></td></tr><tr><td colspan=\"2\"></td><td class=\"subtext\">\n",
      "        <span class=\"score\" id=\"score_23987353\">63 points</span> by <a href=\"user?id=jordn\" class=\"hnuser\">jordn</a> <span class=\"age\"><a href=\"item?id=23987353\">3 hours ago</a></span> <span id=\"unv_23987353\"></span> | <a href=\"hide?id=23987353&amp;goto=news\">hide</a> | <a href=\"item?id=23987353\">16&nbsp;comments</a>              </td></tr>\n",
      "      <tr class=\"spacer\" style=\"height:5px\"></tr>\n",
      "                <tr class='athing' id='23989538'>\n",
      "      <td align=\"right\" valign=\"top\" class=\"title\"><span class=\"rank\">15.</span></td>      <td valign=\"top\" class=\"votelinks\"><center><a id='up_23989538' href='vote?id=23989538&amp;how=up&amp;goto=news'><div class='votearrow' title='upvote'></div></a></center></td><td class=\"title\"><a href=\"https://webkit.org/blog/10967/release-notes-for-safari-technology-preview-111/\" class=\"storylink\">Release Notes for Safari Technology Preview 111</a><span class=\"sitebit comhead\"> (<a href=\"from?site=webkit.org\"><span class=\"sitestr\">webkit.org</span></a>)</span></td></tr><tr><td colspan=\"2\"></td><td class=\"subtext\">\n",
      "        <span class=\"score\" id=\"score_23989538\">17 points</span> by <a href=\"user?id=feross\" class=\"hnuser\">feross</a> <span class=\"age\"><a href=\"item?id=23989538\">1 hour ago</a></span> <span id=\"unv_23989538\"></span> | <a href=\"hide?id=23989538&amp;goto=news\">hide</a> | <a href=\"item?id=23989538\">3&nbsp;comments</a>              </td></tr>\n",
      "      <tr class=\"spacer\" style=\"height:5px\"></tr>\n",
      "                <tr class='athing' id='23986166'>\n",
      "      <td align=\"right\" valign=\"top\" class=\"title\"><span class=\"rank\">16.</span></td>      <td valign=\"top\" class=\"votelinks\"><center><a id='up_23986166' href='vote?id=23986166&amp;how=up&amp;goto=news'><div class='votearrow' title='upvote'></div></a></center></td><td class=\"title\"><a href=\"http://weavesilk.com/?ika/\" class=\"storylink\">Interactive Generative Art</a><span class=\"sitebit comhead\"> (<a href=\"from?site=weavesilk.com\"><span class=\"sitestr\">weavesilk.com</span></a>)</span></td></tr><tr><td colspan=\"2\"></td><td class=\"subtext\">\n",
      "        <span class=\"score\" id=\"score_23986166\">110 points</span> by <a href=\"user?id=maxraz\" class=\"hnuser\">maxraz</a> <span class=\"age\"><a href=\"item?id=23986166\">6 hours ago</a></span> <span id=\"unv_23986166\"></span> | <a href=\"hide?id=23986166&amp;goto=news\">hide</a> | <a href=\"item?id=23986166\">23&nbsp;comments</a>              </td></tr>\n",
      "      <tr class=\"spacer\" style=\"height:5px\"></tr>\n",
      "                <tr class='athing' id='23990075'>\n",
      "      <td align=\"right\" valign=\"top\" class=\"title\"><span class=\"rank\">17.</span></td>      <td valign=\"top\" class=\"votelinks\"><center><a id='up_23990075' href='vote?id=23990075&amp;how=up&amp;goto=news'><div class='votearrow' title='upvote'></div></a></center></td><td class=\"title\"><a href=\"https://www.debian.org/security/2020-GRUB-UEFI-SecureBoot/\" class=\"storylink\" rel=\"nofollow\">GRUB2 UEFI SecureBoot Vulnerability: 'BootHole'</a><span class=\"sitebit comhead\"> (<a href=\"from?site=debian.org\"><span class=\"sitestr\">debian.org</span></a>)</span></td></tr><tr><td colspan=\"2\"></td><td class=\"subtext\">\n",
      "        <span class=\"score\" id=\"score_23990075\">8 points</span> by <a href=\"user?id=edward\" class=\"hnuser\">edward</a> <span class=\"age\"><a href=\"item?id=23990075\">1 hour ago</a></span> <span id=\"unv_23990075\"></span> | <a href=\"hide?id=23990075&amp;goto=news\">hide</a> | <a href=\"item?id=23990075\">2&nbsp;comments</a>              </td></tr>\n",
      "      <tr class=\"spacer\" style=\"height:5px\"></tr>\n",
      "                <tr class='athing' id='23984102'>\n",
      "      <td align=\"right\" valign=\"top\" class=\"title\"><span class=\"rank\">18.</span></td>      <td valign=\"top\" class=\"votelinks\"><center><a id='up_23984102' href='vote?id=23984102&amp;how=up&amp;goto=news'><div class='votearrow' title='upvote'></div></a></center></td><td class=\"title\"><a href=\"https://www.anandtech.com/show/15935/amd-reports-q2-2020-earnings-notebook-and-server-sales-drive-a-record-quarter\" class=\"storylink\">AMD Reports Q2 2020 Earnings: Notebook and Server Sales Drive a Record Quarter</a><span class=\"sitebit comhead\"> (<a href=\"from?site=anandtech.com\"><span class=\"sitestr\">anandtech.com</span></a>)</span></td></tr><tr><td colspan=\"2\"></td><td class=\"subtext\">\n",
      "        <span class=\"score\" id=\"score_23984102\">270 points</span> by <a href=\"user?id=galeos\" class=\"hnuser\">galeos</a> <span class=\"age\"><a href=\"item?id=23984102\">12 hours ago</a></span> <span id=\"unv_23984102\"></span> | <a href=\"hide?id=23984102&amp;goto=news\">hide</a> | <a href=\"item?id=23984102\">163&nbsp;comments</a>              </td></tr>\n",
      "      <tr class=\"spacer\" style=\"height:5px\"></tr>\n",
      "                <tr class='athing' id='23987650'>\n",
      "      <td align=\"right\" valign=\"top\" class=\"title\"><span class=\"rank\">19.</span></td>      <td valign=\"top\" class=\"votelinks\"><center><a id='up_23987650' href='vote?id=23987650&amp;how=up&amp;goto=news'><div class='votearrow' title='upvote'></div></a></center></td><td class=\"title\"><a href=\"https://hongkongfp.com/2020/07/29/breaking-pro-independence-student-group-leader-arrested-on-suspicion-of-inciting-secession-under-hong-kongs-security-law/\" class=\"storylink\">Student group leader arrested on suspicion of inciting secession in HK</a><span class=\"sitebit comhead\"> (<a href=\"from?site=hongkongfp.com\"><span class=\"sitestr\">hongkongfp.com</span></a>)</span></td></tr><tr><td colspan=\"2\"></td><td class=\"subtext\">\n",
      "        <span class=\"score\" id=\"score_23987650\">218 points</span> by <a href=\"user?id=phantomathkg\" class=\"hnuser\">phantomathkg</a> <span class=\"age\"><a href=\"item?id=23987650\">4 hours ago</a></span> <span id=\"unv_23987650\"></span> | <a href=\"hide?id=23987650&amp;goto=news\">hide</a> | <a href=\"item?id=23987650\">71&nbsp;comments</a>              </td></tr>\n",
      "      <tr class=\"spacer\" style=\"height:5px\"></tr>\n",
      "                <tr class='athing' id='23985525'>\n",
      "      <td align=\"right\" valign=\"top\" class=\"title\"><span class=\"rank\">20.</span></td>      <td valign=\"top\" class=\"votelinks\"><center><a id='up_23985525' href='vote?id=23985525&amp;how=up&amp;goto=news'><div class='votearrow' title='upvote'></div></a></center></td><td class=\"title\"><a href=\"https://www.reuters.com/article/us-bytedance-tiktok-exclusive/exclusive-bytedance-investors-value-tiktok-at-50-billion-in-takeover-bid-sources-idUSKCN24U1M9\" class=\"storylink\">ByteDance investors value TikTok at $50B in takeover bid</a><span class=\"sitebit comhead\"> (<a href=\"from?site=reuters.com\"><span class=\"sitestr\">reuters.com</span></a>)</span></td></tr><tr><td colspan=\"2\"></td><td class=\"subtext\">\n",
      "        <span class=\"score\" id=\"score_23985525\">104 points</span> by <a href=\"user?id=adventured\" class=\"hnuser\">adventured</a> <span class=\"age\"><a href=\"item?id=23985525\">8 hours ago</a></span> <span id=\"unv_23985525\"></span> | <a href=\"hide?id=23985525&amp;goto=news\">hide</a> | <a href=\"item?id=23985525\">149&nbsp;comments</a>              </td></tr>\n",
      "      <tr class=\"spacer\" style=\"height:5px\"></tr>\n",
      "                <tr class='athing' id='23987779'>\n",
      "      <td align=\"right\" valign=\"top\" class=\"title\"><span class=\"rank\">21.</span></td>      <td valign=\"top\" class=\"votelinks\"><center><a id='up_23987779' href='vote?id=23987779&amp;how=up&amp;goto=news'><div class='votearrow' title='upvote'></div></a></center></td><td class=\"title\"><a href=\"https://www.blender.org/press/microsoft-joins-the-blender-development-fund/\" class=\"storylink\">Microsoft Joins the Blender Development Fund</a><span class=\"sitebit comhead\"> (<a href=\"from?site=blender.org\"><span class=\"sitestr\">blender.org</span></a>)</span></td></tr><tr><td colspan=\"2\"></td><td class=\"subtext\">\n",
      "        <span class=\"score\" id=\"score_23987779\">261 points</span> by <a href=\"user?id=antoineMoPa\" class=\"hnuser\">antoineMoPa</a> <span class=\"age\"><a href=\"item?id=23987779\">4 hours ago</a></span> <span id=\"unv_23987779\"></span> | <a href=\"hide?id=23987779&amp;goto=news\">hide</a> | <a href=\"item?id=23987779\">103&nbsp;comments</a>              </td></tr>\n",
      "      <tr class=\"spacer\" style=\"height:5px\"></tr>\n",
      "                <tr class='athing' id='23985352'>\n",
      "      <td align=\"right\" valign=\"top\" class=\"title\"><span class=\"rank\">22.</span></td>      <td valign=\"top\" class=\"votelinks\"><center><a id='up_23985352' href='vote?id=23985352&amp;how=up&amp;goto=news'><div class='votearrow' title='upvote'></div></a></center></td><td class=\"title\"><a href=\"https://phys.org/news/2020-07-plunge-incoming-sunlight-triggered-snowball.html\" class=\"storylink\">A plunge in incoming sunlight may have triggered 'Snowball Earths'</a><span class=\"sitebit comhead\"> (<a href=\"from?site=phys.org\"><span class=\"sitestr\">phys.org</span></a>)</span></td></tr><tr><td colspan=\"2\"></td><td class=\"subtext\">\n",
      "        <span class=\"score\" id=\"score_23985352\">25 points</span> by <a href=\"user?id=pseudolus\" class=\"hnuser\">pseudolus</a> <span class=\"age\"><a href=\"item?id=23985352\">4 hours ago</a></span> <span id=\"unv_23985352\"></span> | <a href=\"hide?id=23985352&amp;goto=news\">hide</a> | <a href=\"item?id=23985352\">13&nbsp;comments</a>              </td></tr>\n",
      "      <tr class=\"spacer\" style=\"height:5px\"></tr>\n",
      "                <tr class='athing' id='23987562'>\n",
      "      <td align=\"right\" valign=\"top\" class=\"title\"><span class=\"rank\">23.</span></td>      <td valign=\"top\" class=\"votelinks\"><center><a id='up_23987562' href='vote?id=23987562&amp;how=up&amp;goto=news'><div class='votearrow' title='upvote'></div></a></center></td><td class=\"title\"><a href=\"http://www.their.tube\" class=\"storylink\">TheirTube – How do the recommended videos look on their Youtube home page?</a><span class=\"sitebit comhead\"> (<a href=\"from?site=their.tube\"><span class=\"sitestr\">their.tube</span></a>)</span></td></tr><tr><td colspan=\"2\"></td><td class=\"subtext\">\n",
      "        <span class=\"score\" id=\"score_23987562\">160 points</span> by <a href=\"user?id=reimertz\" class=\"hnuser\">reimertz</a> <span class=\"age\"><a href=\"item?id=23987562\">4 hours ago</a></span> <span id=\"unv_23987562\"></span> | <a href=\"hide?id=23987562&amp;goto=news\">hide</a> | <a href=\"item?id=23987562\">85&nbsp;comments</a>              </td></tr>\n",
      "      <tr class=\"spacer\" style=\"height:5px\"></tr>\n",
      "                <tr class='athing' id='23974971'>\n",
      "      <td align=\"right\" valign=\"top\" class=\"title\"><span class=\"rank\">24.</span></td>      <td valign=\"top\" class=\"votelinks\"><center><a id='up_23974971' href='vote?id=23974971&amp;how=up&amp;goto=news'><div class='votearrow' title='upvote'></div></a></center></td><td class=\"title\"><a href=\"https://www.wired.com/story/the-age-of-mass-surveillance-will-not-last-forever/\" class=\"storylink\">The Age of Mass Surveillance Will Not Last Forever</a><span class=\"sitebit comhead\"> (<a href=\"from?site=wired.com\"><span class=\"sitestr\">wired.com</span></a>)</span></td></tr><tr><td colspan=\"2\"></td><td class=\"subtext\">\n",
      "        <span class=\"score\" id=\"score_23974971\">88 points</span> by <a href=\"user?id=nicolas_\" class=\"hnuser\">nicolas_</a> <span class=\"age\"><a href=\"item?id=23974971\">3 hours ago</a></span> <span id=\"unv_23974971\"></span> | <a href=\"hide?id=23974971&amp;goto=news\">hide</a> | <a href=\"item?id=23974971\">65&nbsp;comments</a>              </td></tr>\n",
      "      <tr class=\"spacer\" style=\"height:5px\"></tr>\n",
      "                <tr class='athing' id='23987264'>\n",
      "      <td align=\"right\" valign=\"top\" class=\"title\"><span class=\"rank\">25.</span></td>      <td valign=\"top\" class=\"votelinks\"><center><a id='up_23987264' href='vote?id=23987264&amp;how=up&amp;goto=news'><div class='votearrow' title='upvote'></div></a></center></td><td class=\"title\"><a href=\"https://www.nytimes.com/2020/07/28/arts/design/vincent-van-gogh-tree-roots.html\" class=\"storylink\">A Clue to van Gogh’s Final Days Is Found in His Last Painting</a><span class=\"sitebit comhead\"> (<a href=\"from?site=nytimes.com\"><span class=\"sitestr\">nytimes.com</span></a>)</span></td></tr><tr><td colspan=\"2\"></td><td class=\"subtext\">\n",
      "        <span class=\"score\" id=\"score_23987264\">16 points</span> by <a href=\"user?id=prismatic\" class=\"hnuser\">prismatic</a> <span class=\"age\"><a href=\"item?id=23987264\">2 hours ago</a></span> <span id=\"unv_23987264\"></span> | <a href=\"hide?id=23987264&amp;goto=news\">hide</a> | <a href=\"item?id=23987264\">1&nbsp;comment</a>              </td></tr>\n",
      "      <tr class=\"spacer\" style=\"height:5px\"></tr>\n",
      "                <tr class='athing' id='23986251'>\n",
      "      <td align=\"right\" valign=\"top\" class=\"title\"><span class=\"rank\">26.</span></td>      <td valign=\"top\" class=\"votelinks\"><center><a id='up_23986251' href='vote?id=23986251&amp;how=up&amp;goto=news'><div class='votearrow' title='upvote'></div></a></center></td><td class=\"title\"><a href=\"https://www.axios.com/tiktoks-new-ceo-says-company-will-reveal-how-its-algorithms-work-aff01b6c-8f33-454f-9b4a-7d52292ce501.html\" class=\"storylink\">TikTok's new CEO says company will reveal how its algorithms work</a><span class=\"sitebit comhead\"> (<a href=\"from?site=axios.com\"><span class=\"sitestr\">axios.com</span></a>)</span></td></tr><tr><td colspan=\"2\"></td><td class=\"subtext\">\n",
      "        <span class=\"score\" id=\"score_23986251\">77 points</span> by <a href=\"user?id=Firebrand\" class=\"hnuser\">Firebrand</a> <span class=\"age\"><a href=\"item?id=23986251\">6 hours ago</a></span> <span id=\"unv_23986251\"></span> | <a href=\"hide?id=23986251&amp;goto=news\">hide</a> | <a href=\"item?id=23986251\">72&nbsp;comments</a>              </td></tr>\n",
      "      <tr class=\"spacer\" style=\"height:5px\"></tr>\n",
      "                <tr class='athing' id='23985405'>\n",
      "      <td align=\"right\" valign=\"top\" class=\"title\"><span class=\"rank\">27.</span></td>      <td valign=\"top\" class=\"votelinks\"><center><a id='up_23985405' href='vote?id=23985405&amp;how=up&amp;goto=news'><div class='votearrow' title='upvote'></div></a></center></td><td class=\"title\"><a href=\"https://www.bbc.com/news/science-environment-53575353\" class=\"storylink\">Airbus to build 'first interplanetary cargo ship'</a><span class=\"sitebit comhead\"> (<a href=\"from?site=bbc.com\"><span class=\"sitestr\">bbc.com</span></a>)</span></td></tr><tr><td colspan=\"2\"></td><td class=\"subtext\">\n",
      "        <span class=\"score\" id=\"score_23985405\">178 points</span> by <a href=\"user?id=pseudolus\" class=\"hnuser\">pseudolus</a> <span class=\"age\"><a href=\"item?id=23985405\">8 hours ago</a></span> <span id=\"unv_23985405\"></span> | <a href=\"hide?id=23985405&amp;goto=news\">hide</a> | <a href=\"item?id=23985405\">181&nbsp;comments</a>              </td></tr>\n",
      "      <tr class=\"spacer\" style=\"height:5px\"></tr>\n",
      "                <tr class='athing' id='23990026'>\n",
      "      <td align=\"right\" valign=\"top\" class=\"title\"><span class=\"rank\">28.</span></td>      <td valign=\"top\" class=\"votelinks\"><center><a id='up_23990026' href='vote?id=23990026&amp;how=up&amp;goto=news'><div class='votearrow' title='upvote'></div></a></center></td><td class=\"title\"><a href=\"https://www.badger-technologies.com/blog/autonomous-robots-rule.html\" class=\"storylink\" rel=\"nofollow\">Autonomous Robots Rule: Largest Rollout in Grocery Industry</a><span class=\"sitebit comhead\"> (<a href=\"from?site=badger-technologies.com\"><span class=\"sitestr\">badger-technologies.com</span></a>)</span></td></tr><tr><td colspan=\"2\"></td><td class=\"subtext\">\n",
      "        <span class=\"score\" id=\"score_23990026\">5 points</span> by <a href=\"user?id=apsec112\" class=\"hnuser\">apsec112</a> <span class=\"age\"><a href=\"item?id=23990026\">1 hour ago</a></span> <span id=\"unv_23990026\"></span> | <a href=\"hide?id=23990026&amp;goto=news\">hide</a> | <a href=\"item?id=23990026\">1&nbsp;comment</a>              </td></tr>\n",
      "      <tr class=\"spacer\" style=\"height:5px\"></tr>\n",
      "                <tr class='athing' id='23985374'>\n",
      "      <td align=\"right\" valign=\"top\" class=\"title\"><span class=\"rank\">29.</span></td>      <td valign=\"top\" class=\"votelinks\"><center><a id='up_23985374' href='vote?id=23985374&amp;how=up&amp;goto=news'><div class='votearrow' title='upvote'></div></a></center></td><td class=\"title\"><a href=\"https://www.redox-os.org/news/public-announcement-gdb/\" class=\"storylink\">Debug Programs Using GDB on Redox OS</a><span class=\"sitebit comhead\"> (<a href=\"from?site=redox-os.org\"><span class=\"sitestr\">redox-os.org</span></a>)</span></td></tr><tr><td colspan=\"2\"></td><td class=\"subtext\">\n",
      "        <span class=\"score\" id=\"score_23985374\">64 points</span> by <a href=\"user?id=rbanffy\" class=\"hnuser\">rbanffy</a> <span class=\"age\"><a href=\"item?id=23985374\">8 hours ago</a></span> <span id=\"unv_23985374\"></span> | <a href=\"hide?id=23985374&amp;goto=news\">hide</a> | <a href=\"item?id=23985374\">9&nbsp;comments</a>              </td></tr>\n",
      "      <tr class=\"spacer\" style=\"height:5px\"></tr>\n",
      "                <tr class='athing' id='23987671'>\n",
      "      <td align=\"right\" valign=\"top\" class=\"title\"><span class=\"rank\">30.</span></td>      <td valign=\"top\" class=\"votelinks\"><center><a id='up_23987671' href='vote?id=23987671&amp;how=up&amp;goto=news'><div class='votearrow' title='upvote'></div></a></center></td><td class=\"title\"><a href=\"https://www.tomanthony.co.uk/blog/zoom-security-exploit-crack-private-meeting-passwords/\" class=\"storylink\">Zoom Security Exploit – Cracking private meeting passwords</a><span class=\"sitebit comhead\"> (<a href=\"from?site=tomanthony.co.uk\"><span class=\"sitestr\">tomanthony.co.uk</span></a>)</span></td></tr><tr><td colspan=\"2\"></td><td class=\"subtext\">\n",
      "        <span class=\"score\" id=\"score_23987671\">143 points</span> by <a href=\"user?id=TomAnthony\" class=\"hnuser\">TomAnthony</a> <span class=\"age\"><a href=\"item?id=23987671\">4 hours ago</a></span> <span id=\"unv_23987671\"></span> | <a href=\"hide?id=23987671&amp;goto=news\">hide</a> | <a href=\"item?id=23987671\">41&nbsp;comments</a>              </td></tr>\n",
      "      <tr class=\"spacer\" style=\"height:5px\"></tr>\n",
      "            <tr class=\"morespace\" style=\"height:10px\"></tr><tr><td colspan=\"2\"></td><td class=\"title\"><a href=\"news?p=2\" class=\"morelink\" rel=\"next\">More</a></td></tr>\n",
      "  </table>\n",
      "</td></tr>\n",
      "<tr><td><img src=\"s.gif\" height=\"10\" width=\"0\"><table width=\"100%\" cellspacing=\"0\" cellpadding=\"1\"><tr><td bgcolor=\"#ff6600\"></td></tr></table><br><center><span class=\"yclinks\"><a href=\"newsguidelines.html\">Guidelines</a>\n",
      "        | <a href=\"newsfaq.html\">FAQ</a>\n",
      "        | <a href=\"mailto:hn@ycombinator.com\">Support</a>\n",
      "        | <a href=\"https://github.com/HackerNews/API\">API</a>\n",
      "        | <a href=\"security.html\">Security</a>\n",
      "        | <a href=\"lists\">Lists</a>\n",
      "        | <a href=\"bookmarklet.html\" rel=\"nofollow\">Bookmarklet</a>\n",
      "        | <a href=\"http://www.ycombinator.com/legal/\">Legal</a>\n",
      "        | <a href=\"http://www.ycombinator.com/apply/\">Apply to YC</a>\n",
      "        | <a href=\"mailto:hn@ycombinator.com\">Contact</a></span><br><br><form method=\"get\" action=\"//hn.algolia.com/\">Search:\n",
      "          <input type=\"text\" name=\"q\" value=\"\" size=\"17\" autocorrect=\"off\" spellcheck=\"false\" autocapitalize=\"off\" autocomplete=\"false\"></form>\n",
      "            </center></td></tr>\n",
      "      </table></center></body><script type='text/javascript' src='hn.js?VgsfVZUUoJCNknWecJe0'></script></html>\n",
      "\n"
     ]
    }
   ],
   "source": [
    "import requests\n",
    "\n",
    "# Fetch a web page\n",
    "r = requests.get(\"https://news.ycombinator.com\")\n",
    "print(r.text)"
   ]
  },
  {
   "cell_type": "code",
   "execution_count": 5,
   "metadata": {},
   "outputs": [
    {
     "name": "stdout",
     "output_type": "stream",
     "text": [
      "\n",
      "        \n",
      "          \n",
      "        Hacker News\n",
      "        \n",
      "                  Hacker News\n",
      "              new | past | comments | ask | show | jobs | submit            \n",
      "                              login\n",
      "                          \n",
      "              \n",
      "\n",
      "              \n",
      "      1.      RBS, Ruby’s new type signature language (squareup.com)\n",
      "        104 points by mootrichard 1 hour ago  | hide | 36&nbsp;comments              \n",
      "      \n",
      "                \n",
      "      2.      Teaching GPT-3 to Identify Nonsense (arr.am)\n",
      "        84 points by tosh 2 hours ago  | hide | 16&nbsp;comments              \n",
      "      \n",
      "                \n",
      "      3.      Del.icio.us (del.icio.us)\n",
      "        1224 points by kome 11 hours ago  | hide | 373&nbsp;comments              \n",
      "      \n",
      "                \n",
      "      4.      The Soviet web: the tale of how the USSR almost invented the internet (2017) (calvertjournal.com)\n",
      "        151 points by tosh 4 hours ago  | hide | 105&nbsp;comments              \n",
      "      \n",
      "                \n",
      "      5.      The Secret Origin of the Action RPG (medium.com)\n",
      "        34 points by polm23 1 hour ago  | hide | 1&nbsp;comment              \n",
      "      \n",
      "                \n",
      "      6.      The Harmful Impact of Audible Exclusive Audiobooks (libro.fm)\n",
      "        75 points by edward 3 hours ago  | hide | 57&nbsp;comments              \n",
      "      \n",
      "                \n",
      "      7.      When a customer refunds your paid app, Apple doesn’t refund the 30% cut (twitter.com)\n",
      "        679 points by tomduncalf 4 hours ago  | hide | 349&nbsp;comments              \n",
      "      \n",
      "                \n",
      "      8.      Schemastore.org – schemas for all commonly known JSON file formats (schemastore.org)\n",
      "        77 points by simon04 3 hours ago  | hide | 21&nbsp;comments              \n",
      "      \n",
      "                \n",
      "      9.      Show HN: WebGL simulation of rainy autumn day/evening (pluvoir.netlify.app)\n",
      "        269 points by maxraz 7 hours ago  | hide | 47&nbsp;comments              \n",
      "      \n",
      "                \n",
      "      10.      Some SQL Tricks of an Application DBA (hakibenita.com)\n",
      "        118 points by samokhvalov 5 hours ago  | hide | 29&nbsp;comments              \n",
      "      \n",
      "                \n",
      "      11.      1.1B Taxi Rides Using OmniSciDB and a MacBook Pro (marksblogg.com)\n",
      "        137 points by tmostak 5 hours ago  | hide | 30&nbsp;comments              \n",
      "      \n",
      "                \n",
      "      12.      Speculation in JavaScriptCore (webkit.org)\n",
      "        58 points by pizlonator 2 hours ago  | hide | 4&nbsp;comments              \n",
      "      \n",
      "                \n",
      "      13.      Google offers refunds after smart glasses stop working (bbc.co.uk)\n",
      "        73 points by AndrewDucker 4 hours ago  | hide | 42&nbsp;comments              \n",
      "      \n",
      "                \n",
      "      14.      Launch HN: Humanloop (YC S20) – A platform to annotate, train and deploy NLP\n",
      "        63 points by jordn 3 hours ago  | hide | 16&nbsp;comments              \n",
      "      \n",
      "                \n",
      "      15.      Release Notes for Safari Technology Preview 111 (webkit.org)\n",
      "        17 points by feross 1 hour ago  | hide | 3&nbsp;comments              \n",
      "      \n",
      "                \n",
      "      16.      Interactive Generative Art (weavesilk.com)\n",
      "        110 points by maxraz 6 hours ago  | hide | 23&nbsp;comments              \n",
      "      \n",
      "                \n",
      "      17.      GRUB2 UEFI SecureBoot Vulnerability: 'BootHole' (debian.org)\n",
      "        8 points by edward 1 hour ago  | hide | 2&nbsp;comments              \n",
      "      \n",
      "                \n",
      "      18.      AMD Reports Q2 2020 Earnings: Notebook and Server Sales Drive a Record Quarter (anandtech.com)\n",
      "        270 points by galeos 12 hours ago  | hide | 163&nbsp;comments              \n",
      "      \n",
      "                \n",
      "      19.      Student group leader arrested on suspicion of inciting secession in HK (hongkongfp.com)\n",
      "        218 points by phantomathkg 4 hours ago  | hide | 71&nbsp;comments              \n",
      "      \n",
      "                \n",
      "      20.      ByteDance investors value TikTok at $50B in takeover bid (reuters.com)\n",
      "        104 points by adventured 8 hours ago  | hide | 149&nbsp;comments              \n",
      "      \n",
      "                \n",
      "      21.      Microsoft Joins the Blender Development Fund (blender.org)\n",
      "        261 points by antoineMoPa 4 hours ago  | hide | 103&nbsp;comments              \n",
      "      \n",
      "                \n",
      "      22.      A plunge in incoming sunlight may have triggered 'Snowball Earths' (phys.org)\n",
      "        25 points by pseudolus 4 hours ago  | hide | 13&nbsp;comments              \n",
      "      \n",
      "                \n",
      "      23.      TheirTube – How do the recommended videos look on their Youtube home page? (their.tube)\n",
      "        160 points by reimertz 4 hours ago  | hide | 85&nbsp;comments              \n",
      "      \n",
      "                \n",
      "      24.      The Age of Mass Surveillance Will Not Last Forever (wired.com)\n",
      "        88 points by nicolas_ 3 hours ago  | hide | 65&nbsp;comments              \n",
      "      \n",
      "                \n",
      "      25.      A Clue to van Gogh’s Final Days Is Found in His Last Painting (nytimes.com)\n",
      "        16 points by prismatic 2 hours ago  | hide | 1&nbsp;comment              \n",
      "      \n",
      "                \n",
      "      26.      TikTok's new CEO says company will reveal how its algorithms work (axios.com)\n",
      "        77 points by Firebrand 6 hours ago  | hide | 72&nbsp;comments              \n",
      "      \n",
      "                \n",
      "      27.      Airbus to build 'first interplanetary cargo ship' (bbc.com)\n",
      "        178 points by pseudolus 8 hours ago  | hide | 181&nbsp;comments              \n",
      "      \n",
      "                \n",
      "      28.      Autonomous Robots Rule: Largest Rollout in Grocery Industry (badger-technologies.com)\n",
      "        5 points by apsec112 1 hour ago  | hide | 1&nbsp;comment              \n",
      "      \n",
      "                \n",
      "      29.      Debug Programs Using GDB on Redox OS (redox-os.org)\n",
      "        64 points by rbanffy 8 hours ago  | hide | 9&nbsp;comments              \n",
      "      \n",
      "                \n",
      "      30.      Zoom Security Exploit – Cracking private meeting passwords (tomanthony.co.uk)\n",
      "        143 points by TomAnthony 4 hours ago  | hide | 41&nbsp;comments              \n",
      "      \n",
      "            More\n",
      "  \n",
      "\n",
      "Guidelines\n",
      "        | FAQ\n",
      "        | Support\n",
      "        | API\n",
      "        | Security\n",
      "        | Lists\n",
      "        | Bookmarklet\n",
      "        | Legal\n",
      "        | Apply to YC\n",
      "        | ContactSearch:\n",
      "          \n",
      "            \n",
      "      \n",
      "\n"
     ]
    }
   ],
   "source": [
    "import re\n",
    "\n",
    "# Remove HTML tags using RegEx\n",
    "pattern = re.compile(r'<.*?>')  # tags look like <...>\n",
    "print(pattern.sub('', r.text))  # replace them with blank"
   ]
  },
  {
   "cell_type": "code",
   "execution_count": 6,
   "metadata": {},
   "outputs": [
    {
     "name": "stdout",
     "output_type": "stream",
     "text": [
      "\n",
      "        \n",
      "          \n",
      "        Hacker News\n",
      "        \n",
      "                  Hacker News\n",
      "              new | past | comments | ask | show | jobs | submit            \n",
      "                              login\n",
      "                          \n",
      "              \n",
      "\n",
      "              \n",
      "      1.      RBS, Ruby’s new type signature language (squareup.com)\n",
      "        104 points by mootrichard 1 hour ago  | hide | 36 comments              \n",
      "      \n",
      "                \n",
      "      2.      Teaching GPT-3 to Identify Nonsense (arr.am)\n",
      "        84 points by tosh 2 hours ago  | hide | 16 comments              \n",
      "      \n",
      "                \n",
      "      3.      Del.icio.us (del.icio.us)\n",
      "        1224 points by kome 11 hours ago  | hide | 373 comments              \n",
      "      \n",
      "                \n",
      "      4.      The Soviet web: the tale of how the USSR almost invented the internet (2017) (calvertjournal.com)\n",
      "        151 points by tosh 4 hours ago  | hide | 105 comments              \n",
      "      \n",
      "                \n",
      "      5.      The Secret Origin of the Action RPG (medium.com)\n",
      "        34 points by polm23 1 hour ago  | hide | 1 comment              \n",
      "      \n",
      "                \n",
      "      6.      The Harmful Impact of Audible Exclusive Audiobooks (libro.fm)\n",
      "        75 points by edward 3 hours ago  | hide | 57 comments              \n",
      "      \n",
      "                \n",
      "      7.      When a customer refunds your paid app, Apple doesn’t refund the 30% cut (twitter.com)\n",
      "        679 points by tomduncalf 4 hours ago  | hide | 349 comments              \n",
      "      \n",
      "                \n",
      "      8.      Schemastore.org – schemas for all commonly known JSON file formats (schemastore.org)\n",
      "        77 points by simon04 3 hours ago  | hide | 21 comments              \n",
      "      \n",
      "                \n",
      "      9.      Show HN: WebGL simulation of rainy autumn day/evening (pluvoir.netlify.app)\n",
      "        269 points by maxraz 7 hours ago  | hide | 47 comments              \n",
      "      \n",
      "                \n",
      "      10.      Some SQL Tricks of an Application DBA (hakibenita.com)\n",
      "        118 points by samokhvalov 5 hours ago  | hide | 29 comments              \n",
      "      \n",
      "                \n",
      "      11.      1.1B Taxi Rides Using OmniSciDB and a MacBook Pro (marksblogg.com)\n",
      "        137 points by tmostak 5 hours ago  | hide | 30 comments              \n",
      "      \n",
      "                \n",
      "      12.      Speculation in JavaScriptCore (webkit.org)\n",
      "        58 points by pizlonator 2 hours ago  | hide | 4 comments              \n",
      "      \n",
      "                \n",
      "      13.      Google offers refunds after smart glasses stop working (bbc.co.uk)\n",
      "        73 points by AndrewDucker 4 hours ago  | hide | 42 comments              \n",
      "      \n",
      "                \n",
      "      14.      Launch HN: Humanloop (YC S20) – A platform to annotate, train and deploy NLP\n",
      "        63 points by jordn 3 hours ago  | hide | 16 comments              \n",
      "      \n",
      "                \n",
      "      15.      Release Notes for Safari Technology Preview 111 (webkit.org)\n",
      "        17 points by feross 1 hour ago  | hide | 3 comments              \n",
      "      \n",
      "                \n",
      "      16.      Interactive Generative Art (weavesilk.com)\n",
      "        110 points by maxraz 6 hours ago  | hide | 23 comments              \n",
      "      \n",
      "                \n",
      "      17.      GRUB2 UEFI SecureBoot Vulnerability: 'BootHole' (debian.org)\n",
      "        8 points by edward 1 hour ago  | hide | 2 comments              \n",
      "      \n",
      "                \n",
      "      18.      AMD Reports Q2 2020 Earnings: Notebook and Server Sales Drive a Record Quarter (anandtech.com)\n",
      "        270 points by galeos 12 hours ago  | hide | 163 comments              \n",
      "      \n",
      "                \n",
      "      19.      Student group leader arrested on suspicion of inciting secession in HK (hongkongfp.com)\n",
      "        218 points by phantomathkg 4 hours ago  | hide | 71 comments              \n",
      "      \n",
      "                \n",
      "      20.      ByteDance investors value TikTok at $50B in takeover bid (reuters.com)\n",
      "        104 points by adventured 8 hours ago  | hide | 149 comments              \n",
      "      \n",
      "                \n",
      "      21.      Microsoft Joins the Blender Development Fund (blender.org)\n",
      "        261 points by antoineMoPa 4 hours ago  | hide | 103 comments              \n",
      "      \n",
      "                \n",
      "      22.      A plunge in incoming sunlight may have triggered 'Snowball Earths' (phys.org)\n",
      "        25 points by pseudolus 4 hours ago  | hide | 13 comments              \n",
      "      \n",
      "                \n",
      "      23.      TheirTube – How do the recommended videos look on their Youtube home page? (their.tube)\n",
      "        160 points by reimertz 4 hours ago  | hide | 85 comments              \n",
      "      \n",
      "                \n",
      "      24.      The Age of Mass Surveillance Will Not Last Forever (wired.com)\n",
      "        88 points by nicolas_ 3 hours ago  | hide | 65 comments              \n",
      "      \n",
      "                \n",
      "      25.      A Clue to van Gogh’s Final Days Is Found in His Last Painting (nytimes.com)\n",
      "        16 points by prismatic 2 hours ago  | hide | 1 comment              \n",
      "      \n",
      "                \n",
      "      26.      TikTok's new CEO says company will reveal how its algorithms work (axios.com)\n",
      "        77 points by Firebrand 6 hours ago  | hide | 72 comments              \n",
      "      \n",
      "                \n",
      "      27.      Airbus to build 'first interplanetary cargo ship' (bbc.com)\n",
      "        178 points by pseudolus 8 hours ago  | hide | 181 comments              \n",
      "      \n",
      "                \n",
      "      28.      Autonomous Robots Rule: Largest Rollout in Grocery Industry (badger-technologies.com)\n",
      "        5 points by apsec112 1 hour ago  | hide | 1 comment              \n",
      "      \n",
      "                \n",
      "      29.      Debug Programs Using GDB on Redox OS (redox-os.org)\n",
      "        64 points by rbanffy 8 hours ago  | hide | 9 comments              \n",
      "      \n",
      "                \n",
      "      30.      Zoom Security Exploit – Cracking private meeting passwords (tomanthony.co.uk)\n",
      "        143 points by TomAnthony 4 hours ago  | hide | 41 comments              \n",
      "      \n",
      "            More\n",
      "  \n",
      "\n",
      "Guidelines\n",
      "        | FAQ\n",
      "        | Support\n",
      "        | API\n",
      "        | Security\n",
      "        | Lists\n",
      "        | Bookmarklet\n",
      "        | Legal\n",
      "        | Apply to YC\n",
      "        | ContactSearch:\n",
      "          \n",
      "            \n",
      "      \n",
      "\n"
     ]
    }
   ],
   "source": [
    "from bs4 import BeautifulSoup\n",
    "\n",
    "# Remove HTML tags using Beautiful Soup library\n",
    "soup = BeautifulSoup(r.text, \"html5lib\")\n",
    "print(soup.get_text())"
   ]
  },
  {
   "cell_type": "code",
   "execution_count": 7,
   "metadata": {
    "scrolled": true
   },
   "outputs": [
    {
     "data": {
      "text/plain": [
       "<tr class=\"athing\" id=\"23989738\">\n",
       "      <td align=\"right\" class=\"title\" valign=\"top\"><span class=\"rank\">1.</span></td>      <td class=\"votelinks\" valign=\"top\"><center><a href=\"vote?id=23989738&amp;how=up&amp;goto=news\" id=\"up_23989738\"><div class=\"votearrow\" title=\"upvote\"></div></a></center></td><td class=\"title\"><a class=\"storylink\" href=\"https://developer.squareup.com/blog/the-state-of-ruby-3-typing\">RBS, Ruby’s new type signature language</a><span class=\"sitebit comhead\"> (<a href=\"from?site=squareup.com\"><span class=\"sitestr\">squareup.com</span></a>)</span></td></tr>"
      ]
     },
     "execution_count": 7,
     "metadata": {},
     "output_type": "execute_result"
    }
   ],
   "source": [
    "# Find all articles\n",
    "summaries = soup.find_all(\"tr\", class_=\"athing\")\n",
    "summaries[0]"
   ]
  },
  {
   "cell_type": "code",
   "execution_count": 8,
   "metadata": {},
   "outputs": [
    {
     "data": {
      "text/plain": [
       "'RBS, Ruby’s new type signature language'"
      ]
     },
     "execution_count": 8,
     "metadata": {},
     "output_type": "execute_result"
    }
   ],
   "source": [
    "# Extract title\n",
    "summaries[0].find(\"a\", class_=\"storylink\").get_text().strip()"
   ]
  },
  {
   "cell_type": "code",
   "execution_count": 9,
   "metadata": {},
   "outputs": [
    {
     "name": "stdout",
     "output_type": "stream",
     "text": [
      "30 Article summaries found. Sample:\n",
      "RBS, Ruby’s new type signature language\n"
     ]
    }
   ],
   "source": [
    "# Find all articles, extract titles\n",
    "articles = []\n",
    "summaries = soup.find_all(\"tr\", class_=\"athing\")\n",
    "for summary in summaries:\n",
    "    title = summary.find(\"a\", class_=\"storylink\").get_text().strip()\n",
    "    articles.append((title))\n",
    "\n",
    "print(len(articles), \"Article summaries found. Sample:\")\n",
    "print(articles[0])"
   ]
  },
  {
   "cell_type": "markdown",
   "metadata": {
    "collapsed": true
   },
   "source": [
    "## Normalization"
   ]
  },
  {
   "cell_type": "markdown",
   "metadata": {},
   "source": [
    "### Case Normalization"
   ]
  },
  {
   "cell_type": "code",
   "execution_count": 10,
   "metadata": {},
   "outputs": [
    {
     "name": "stdout",
     "output_type": "stream",
     "text": [
      "The first time you see The Second Renaissance it may look boring. Look at it at least twice and definitely watch part 2. It will change your view of the matrix. Are the human people the ones who started the war ? Is AI a bad thing ?\n"
     ]
    }
   ],
   "source": [
    "# Sample text\n",
    "text = \"The first time you see The Second Renaissance it may look boring. Look at it at least twice and definitely watch part 2. It will change your view of the matrix. Are the human people the ones who started the war ? Is AI a bad thing ?\"\n",
    "print(text)"
   ]
  },
  {
   "cell_type": "code",
   "execution_count": 11,
   "metadata": {},
   "outputs": [
    {
     "name": "stdout",
     "output_type": "stream",
     "text": [
      "the first time you see the second renaissance it may look boring. look at it at least twice and definitely watch part 2. it will change your view of the matrix. are the human people the ones who started the war ? is ai a bad thing ?\n"
     ]
    }
   ],
   "source": [
    "# Convert to lowercase\n",
    "text = text.lower() \n",
    "print(text)"
   ]
  },
  {
   "cell_type": "markdown",
   "metadata": {},
   "source": [
    "### Punctuation Removal"
   ]
  },
  {
   "cell_type": "code",
   "execution_count": 12,
   "metadata": {},
   "outputs": [
    {
     "name": "stdout",
     "output_type": "stream",
     "text": [
      "the first time you see the second renaissance it may look boring  look at it at least twice and definitely watch part 2  it will change your view of the matrix  are the human people the ones who started the war   is ai a bad thing  \n"
     ]
    }
   ],
   "source": [
    "import re\n",
    "\n",
    "# Remove punctuation characters\n",
    "text = re.sub(r\"[^a-zA-Z0-9]\", \" \", text) \n",
    "print(text)"
   ]
  },
  {
   "cell_type": "markdown",
   "metadata": {},
   "source": [
    "## Tokenization"
   ]
  },
  {
   "cell_type": "code",
   "execution_count": 13,
   "metadata": {},
   "outputs": [
    {
     "name": "stdout",
     "output_type": "stream",
     "text": [
      "['the', 'first', 'time', 'you', 'see', 'the', 'second', 'renaissance', 'it', 'may', 'look', 'boring', 'look', 'at', 'it', 'at', 'least', 'twice', 'and', 'definitely', 'watch', 'part', '2', 'it', 'will', 'change', 'your', 'view', 'of', 'the', 'matrix', 'are', 'the', 'human', 'people', 'the', 'ones', 'who', 'started', 'the', 'war', 'is', 'ai', 'a', 'bad', 'thing']\n"
     ]
    }
   ],
   "source": [
    "# Split text into tokens (words)\n",
    "words = text.split()\n",
    "print(words)"
   ]
  },
  {
   "cell_type": "markdown",
   "metadata": {},
   "source": [
    "### NLTK: Natural Language ToolKit"
   ]
  },
  {
   "cell_type": "code",
   "execution_count": 14,
   "metadata": {},
   "outputs": [],
   "source": [
    "import os\n",
    "import nltk\n",
    "nltk.data.path.append(os.path.join(os.getcwd(), \"nltk_data\"))"
   ]
  },
  {
   "cell_type": "code",
   "execution_count": 15,
   "metadata": {},
   "outputs": [
    {
     "name": "stdout",
     "output_type": "stream",
     "text": [
      "Dr. Smith graduated from the University of Washington. He later started an analytics firm called Lux, which catered to enterprise customers.\n"
     ]
    }
   ],
   "source": [
    "# Another sample text\n",
    "text = \"Dr. Smith graduated from the University of Washington. He later started an analytics firm called Lux, which catered to enterprise customers.\"\n",
    "print(text)"
   ]
  },
  {
   "cell_type": "code",
   "execution_count": 16,
   "metadata": {},
   "outputs": [
    {
     "name": "stdout",
     "output_type": "stream",
     "text": [
      "['Dr.', 'Smith', 'graduated', 'from', 'the', 'University', 'of', 'Washington', '.', 'He', 'later', 'started', 'an', 'analytics', 'firm', 'called', 'Lux', ',', 'which', 'catered', 'to', 'enterprise', 'customers', '.']\n"
     ]
    }
   ],
   "source": [
    "from nltk.tokenize import word_tokenize\n",
    "\n",
    "# Split text into words using NLTK\n",
    "words = word_tokenize(text)\n",
    "print(words)"
   ]
  },
  {
   "cell_type": "code",
   "execution_count": 17,
   "metadata": {},
   "outputs": [
    {
     "name": "stdout",
     "output_type": "stream",
     "text": [
      "['Dr. Smith graduated from the University of Washington.', 'He later started an analytics firm called Lux, which catered to enterprise customers.']\n"
     ]
    }
   ],
   "source": [
    "from nltk.tokenize import sent_tokenize\n",
    "\n",
    "# Split text into sentences\n",
    "sentences = sent_tokenize(text)\n",
    "print(sentences)"
   ]
  },
  {
   "cell_type": "code",
   "execution_count": 18,
   "metadata": {},
   "outputs": [
    {
     "name": "stdout",
     "output_type": "stream",
     "text": [
      "['i', 'me', 'my', 'myself', 'we', 'our', 'ours', 'ourselves', 'you', \"you're\", \"you've\", \"you'll\", \"you'd\", 'your', 'yours', 'yourself', 'yourselves', 'he', 'him', 'his', 'himself', 'she', \"she's\", 'her', 'hers', 'herself', 'it', \"it's\", 'its', 'itself', 'they', 'them', 'their', 'theirs', 'themselves', 'what', 'which', 'who', 'whom', 'this', 'that', \"that'll\", 'these', 'those', 'am', 'is', 'are', 'was', 'were', 'be', 'been', 'being', 'have', 'has', 'had', 'having', 'do', 'does', 'did', 'doing', 'a', 'an', 'the', 'and', 'but', 'if', 'or', 'because', 'as', 'until', 'while', 'of', 'at', 'by', 'for', 'with', 'about', 'against', 'between', 'into', 'through', 'during', 'before', 'after', 'above', 'below', 'to', 'from', 'up', 'down', 'in', 'out', 'on', 'off', 'over', 'under', 'again', 'further', 'then', 'once', 'here', 'there', 'when', 'where', 'why', 'how', 'all', 'any', 'both', 'each', 'few', 'more', 'most', 'other', 'some', 'such', 'no', 'nor', 'not', 'only', 'own', 'same', 'so', 'than', 'too', 'very', 's', 't', 'can', 'will', 'just', 'don', \"don't\", 'should', \"should've\", 'now', 'd', 'll', 'm', 'o', 're', 've', 'y', 'ain', 'aren', \"aren't\", 'couldn', \"couldn't\", 'didn', \"didn't\", 'doesn', \"doesn't\", 'hadn', \"hadn't\", 'hasn', \"hasn't\", 'haven', \"haven't\", 'isn', \"isn't\", 'ma', 'mightn', \"mightn't\", 'mustn', \"mustn't\", 'needn', \"needn't\", 'shan', \"shan't\", 'shouldn', \"shouldn't\", 'wasn', \"wasn't\", 'weren', \"weren't\", 'won', \"won't\", 'wouldn', \"wouldn't\"]\n"
     ]
    }
   ],
   "source": [
    "# List stop words\n",
    "from nltk.corpus import stopwords\n",
    "print(stopwords.words(\"english\"))"
   ]
  },
  {
   "cell_type": "code",
   "execution_count": 19,
   "metadata": {},
   "outputs": [
    {
     "name": "stdout",
     "output_type": "stream",
     "text": [
      "['the', 'first', 'time', 'you', 'see', 'the', 'second', 'renaissance', 'it', 'may', 'look', 'boring', 'look', 'at', 'it', 'at', 'least', 'twice', 'and', 'definitely', 'watch', 'part', '2', 'it', 'will', 'change', 'your', 'view', 'of', 'the', 'matrix', 'are', 'the', 'human', 'people', 'the', 'ones', 'who', 'started', 'the', 'war', 'is', 'ai', 'a', 'bad', 'thing']\n"
     ]
    }
   ],
   "source": [
    "# Reset text\n",
    "text = \"The first time you see The Second Renaissance it may look boring. Look at it at least twice and definitely watch part 2. It will change your view of the matrix. Are the human people the ones who started the war ? Is AI a bad thing ?\"\n",
    "\n",
    "# Normalize it\n",
    "text = re.sub(r\"[^a-zA-Z0-9]\", \" \", text.lower())\n",
    "\n",
    "# Tokenize it\n",
    "words = text.split()\n",
    "print(words)"
   ]
  },
  {
   "cell_type": "code",
   "execution_count": 20,
   "metadata": {},
   "outputs": [
    {
     "name": "stdout",
     "output_type": "stream",
     "text": [
      "['first', 'time', 'see', 'second', 'renaissance', 'may', 'look', 'boring', 'look', 'least', 'twice', 'definitely', 'watch', 'part', '2', 'change', 'view', 'matrix', 'human', 'people', 'ones', 'started', 'war', 'ai', 'bad', 'thing']\n"
     ]
    }
   ],
   "source": [
    "# Remove stop words\n",
    "words = [w for w in words if w not in stopwords.words(\"english\")]\n",
    "print(words)"
   ]
  },
  {
   "cell_type": "markdown",
   "metadata": {},
   "source": [
    "### Sentence Parsing"
   ]
  },
  {
   "cell_type": "code",
   "execution_count": 21,
   "metadata": {},
   "outputs": [
    {
     "name": "stdout",
     "output_type": "stream",
     "text": [
      "(S\n",
      "  (NP I)\n",
      "  (VP\n",
      "    (VP (V shot) (NP (Det an) (N elephant)))\n",
      "    (PP (P in) (NP (Det my) (N pajamas)))))\n",
      "(S\n",
      "  (NP I)\n",
      "  (VP\n",
      "    (V shot)\n",
      "    (NP (Det an) (N elephant) (PP (P in) (NP (Det my) (N pajamas))))))\n"
     ]
    }
   ],
   "source": [
    "import nltk\n",
    "\n",
    "# Define a custom grammar\n",
    "my_grammar = nltk.CFG.fromstring(\"\"\"\n",
    "S -> NP VP\n",
    "PP -> P NP\n",
    "NP -> Det N | Det N PP | 'I'\n",
    "VP -> V NP | VP PP\n",
    "Det -> 'an' | 'my'\n",
    "N -> 'elephant' | 'pajamas'\n",
    "V -> 'shot'\n",
    "P -> 'in'\n",
    "\"\"\")\n",
    "parser = nltk.ChartParser(my_grammar)\n",
    "\n",
    "# Parse a sentence\n",
    "sentence = word_tokenize(\"I shot an elephant in my pajamas\")\n",
    "for tree in parser.parse(sentence):\n",
    "    print(tree)"
   ]
  },
  {
   "cell_type": "markdown",
   "metadata": {},
   "source": [
    "## Stemming & Lemmatization\n",
    "\n",
    "### Stemming"
   ]
  },
  {
   "cell_type": "code",
   "execution_count": 22,
   "metadata": {},
   "outputs": [
    {
     "name": "stdout",
     "output_type": "stream",
     "text": [
      "['first', 'time', 'see', 'second', 'renaiss', 'may', 'look', 'bore', 'look', 'least', 'twice', 'definit', 'watch', 'part', '2', 'chang', 'view', 'matrix', 'human', 'peopl', 'one', 'start', 'war', 'ai', 'bad', 'thing']\n"
     ]
    }
   ],
   "source": [
    "from nltk.stem.porter import PorterStemmer\n",
    "\n",
    "# Reduce words to their stems\n",
    "stemmed = [PorterStemmer().stem(w) for w in words]\n",
    "print(stemmed)"
   ]
  },
  {
   "cell_type": "markdown",
   "metadata": {},
   "source": [
    "### Lemmatization"
   ]
  },
  {
   "cell_type": "code",
   "execution_count": 23,
   "metadata": {},
   "outputs": [
    {
     "name": "stdout",
     "output_type": "stream",
     "text": [
      "['first', 'time', 'see', 'second', 'renaissance', 'may', 'look', 'boring', 'look', 'least', 'twice', 'definitely', 'watch', 'part', '2', 'change', 'view', 'matrix', 'human', 'people', 'one', 'started', 'war', 'ai', 'bad', 'thing']\n"
     ]
    }
   ],
   "source": [
    "from nltk.stem.wordnet import WordNetLemmatizer\n",
    "\n",
    "# Reduce words to their root form\n",
    "lemmed = [WordNetLemmatizer().lemmatize(w) for w in words]\n",
    "print(lemmed)"
   ]
  },
  {
   "cell_type": "code",
   "execution_count": 24,
   "metadata": {},
   "outputs": [
    {
     "name": "stdout",
     "output_type": "stream",
     "text": [
      "['first', 'time', 'see', 'second', 'renaissance', 'may', 'look', 'bore', 'look', 'least', 'twice', 'definitely', 'watch', 'part', '2', 'change', 'view', 'matrix', 'human', 'people', 'one', 'start', 'war', 'ai', 'bad', 'thing']\n"
     ]
    }
   ],
   "source": [
    "# Lemmatize verbs by specifying pos\n",
    "lemmed = [WordNetLemmatizer().lemmatize(w, pos='v') for w in lemmed]\n",
    "print(lemmed)"
   ]
  }
 ],
 "metadata": {
  "kernelspec": {
   "display_name": "Python 3",
   "language": "python",
   "name": "python3"
  },
  "language_info": {
   "codemirror_mode": {
    "name": "ipython",
    "version": 3
   },
   "file_extension": ".py",
   "mimetype": "text/x-python",
   "name": "python",
   "nbconvert_exporter": "python",
   "pygments_lexer": "ipython3",
   "version": "3.6.3"
  }
 },
 "nbformat": 4,
 "nbformat_minor": 2
}
